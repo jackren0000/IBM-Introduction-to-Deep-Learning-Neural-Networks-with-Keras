{
 "cells": [
  {
   "cell_type": "markdown",
   "id": "ce026d7e",
   "metadata": {
    "papermill": {
     "duration": 0.014347,
     "end_time": "2024-02-22T08:55:32.117461",
     "exception": false,
     "start_time": "2024-02-22T08:55:32.103114",
     "status": "completed"
    },
    "tags": []
   },
   "source": [
    "<a href=\"https://cognitiveclass.ai/?utm_medium=Exinfluencer&utm_source=Exinfluencer&utm_content=000026UJ&utm_term=10006555&utm_id=NA-SkillsNetwork-Channel-SkillsNetworkCoursesIBMDeveloperSkillsNetworkDL0101ENSkillsNetwork945-2022-01-01\"><img src=\"https://cf-courses-data.s3.us.cloud-object-storage.appdomain.cloud/IBMDeveloperSkillsNetwork-DL0101EN-SkillsNetwork/images/IDSN-logo.png\" width=\"400\"> </a>\n",
    "\n",
    "<h1 align=center><font size = 5>Regression Models with Keras</font></h1>\n"
   ]
  },
  {
   "cell_type": "markdown",
   "id": "4f8cd263",
   "metadata": {
    "papermill": {
     "duration": 0.013928,
     "end_time": "2024-02-22T08:55:32.145794",
     "exception": false,
     "start_time": "2024-02-22T08:55:32.131866",
     "status": "completed"
    },
    "tags": []
   },
   "source": [
    "## Introduction\n"
   ]
  },
  {
   "cell_type": "markdown",
   "id": "6630bcde",
   "metadata": {
    "papermill": {
     "duration": 0.013253,
     "end_time": "2024-02-22T08:55:32.173132",
     "exception": false,
     "start_time": "2024-02-22T08:55:32.159879",
     "status": "completed"
    },
    "tags": []
   },
   "source": [
    "As we discussed in the videos, despite the popularity of more powerful libraries such as PyToch and TensorFlow, they are not easy to use and have a steep learning curve. So, for people who are just starting to learn deep learning, there is no better library to use other than the Keras library. \n",
    "\n",
    "Keras is a high-level API for building deep learning models. It has gained favor for its ease of use and syntactic simplicity facilitating fast development. As you will see in this lab and the other labs in this course, building a very complex deep learning network can be achieved with Keras with only few lines of code. You will appreciate Keras even more, once you learn how to build deep models using PyTorch and TensorFlow in the other courses.\n",
    "\n",
    "So, in this lab, you will learn how to use the Keras library to build a regression model.\n"
   ]
  },
  {
   "cell_type": "markdown",
   "id": "ddb7ed2c",
   "metadata": {
    "papermill": {
     "duration": 0.014253,
     "end_time": "2024-02-22T08:55:32.201043",
     "exception": false,
     "start_time": "2024-02-22T08:55:32.186790",
     "status": "completed"
    },
    "tags": []
   },
   "source": [
    "<h2>Regression Models with Keras</h2>\n",
    "\n",
    "<h3>Objective for this Notebook<h3>    \n",
    "<h5> 1. How to use the Keras library to build a regression model.</h5>\n",
    "<h5> 2. Download and Clean dataset </h5>\n",
    "<h5> 3. Build a Neural Network </h5>\n",
    "<h5> 4. Train and Test the Network. </h5>     \n",
    "\n"
   ]
  },
  {
   "cell_type": "markdown",
   "id": "a63e8148",
   "metadata": {
    "papermill": {
     "duration": 0.013346,
     "end_time": "2024-02-22T08:55:32.227889",
     "exception": false,
     "start_time": "2024-02-22T08:55:32.214543",
     "status": "completed"
    },
    "tags": []
   },
   "source": [
    "<a id=\"item31\"></a>\n"
   ]
  },
  {
   "cell_type": "markdown",
   "id": "0e951b0c",
   "metadata": {
    "papermill": {
     "duration": 0.013292,
     "end_time": "2024-02-22T08:55:32.254669",
     "exception": false,
     "start_time": "2024-02-22T08:55:32.241377",
     "status": "completed"
    },
    "tags": []
   },
   "source": [
    "## Download and Clean Dataset\n"
   ]
  },
  {
   "cell_type": "markdown",
   "id": "5d67f5cf",
   "metadata": {
    "papermill": {
     "duration": 0.013274,
     "end_time": "2024-02-22T08:55:32.281471",
     "exception": false,
     "start_time": "2024-02-22T08:55:32.268197",
     "status": "completed"
    },
    "tags": []
   },
   "source": [
    "Let's start by importing the <em>pandas</em> and the Numpy libraries.\n"
   ]
  },
  {
   "cell_type": "code",
   "execution_count": 1,
   "id": "60aae420",
   "metadata": {
    "execution": {
     "iopub.execute_input": "2024-02-22T08:55:32.311891Z",
     "iopub.status.busy": "2024-02-22T08:55:32.311111Z",
     "iopub.status.idle": "2024-02-22T08:55:32.316182Z",
     "shell.execute_reply": "2024-02-22T08:55:32.315255Z"
    },
    "papermill": {
     "duration": 0.022539,
     "end_time": "2024-02-22T08:55:32.318649",
     "exception": false,
     "start_time": "2024-02-22T08:55:32.296110",
     "status": "completed"
    },
    "tags": []
   },
   "outputs": [],
   "source": [
    "# All Libraries required for this lab are listed below. The libraries pre-installed on Skills Network Labs are commented. \n",
    "# If you run this notebook on a different environment, e.g. your desktop, you may need to uncomment and install certain libraries.\n",
    "\n",
    "#!pip install numpy==1.21.4\n",
    "#!pip install pandas==1.3.4\n",
    "#!pip install keras==2.1.6"
   ]
  },
  {
   "cell_type": "code",
   "execution_count": 2,
   "id": "113d4c4d",
   "metadata": {
    "execution": {
     "iopub.execute_input": "2024-02-22T08:55:32.348850Z",
     "iopub.status.busy": "2024-02-22T08:55:32.348118Z",
     "iopub.status.idle": "2024-02-22T08:55:33.290546Z",
     "shell.execute_reply": "2024-02-22T08:55:33.288933Z"
    },
    "papermill": {
     "duration": 0.960741,
     "end_time": "2024-02-22T08:55:33.293636",
     "exception": false,
     "start_time": "2024-02-22T08:55:32.332895",
     "status": "completed"
    },
    "tags": []
   },
   "outputs": [],
   "source": [
    "import pandas as pd\n",
    "import numpy as np"
   ]
  },
  {
   "cell_type": "markdown",
   "id": "a5592e49",
   "metadata": {
    "papermill": {
     "duration": 0.013301,
     "end_time": "2024-02-22T08:55:33.320839",
     "exception": false,
     "start_time": "2024-02-22T08:55:33.307538",
     "status": "completed"
    },
    "tags": []
   },
   "source": [
    "We will be playing around with the same dataset that we used in the videos.\n",
    "\n",
    "<strong>The dataset is about the compressive strength of different samples of concrete based on the volumes of the different ingredients that were used to make them. Ingredients include:</strong>\n",
    "\n",
    "<strong>1. Cement</strong>\n",
    "\n",
    "<strong>2. Blast Furnace Slag</strong>\n",
    "\n",
    "<strong>3. Fly Ash</strong>\n",
    "\n",
    "<strong>4. Water</strong>\n",
    "\n",
    "<strong>5. Superplasticizer</strong>\n",
    "\n",
    "<strong>6. Coarse Aggregate</strong>\n",
    "\n",
    "<strong>7. Fine Aggregate</strong>\n"
   ]
  },
  {
   "cell_type": "markdown",
   "id": "28694939",
   "metadata": {
    "papermill": {
     "duration": 0.013358,
     "end_time": "2024-02-22T08:55:33.347835",
     "exception": false,
     "start_time": "2024-02-22T08:55:33.334477",
     "status": "completed"
    },
    "tags": []
   },
   "source": [
    "Let's download the data and read it into a <em>pandas</em> dataframe.\n"
   ]
  },
  {
   "cell_type": "code",
   "execution_count": 3,
   "id": "0ef52fc0",
   "metadata": {
    "execution": {
     "iopub.execute_input": "2024-02-22T08:55:33.378740Z",
     "iopub.status.busy": "2024-02-22T08:55:33.378160Z",
     "iopub.status.idle": "2024-02-22T08:55:33.652321Z",
     "shell.execute_reply": "2024-02-22T08:55:33.651232Z"
    },
    "papermill": {
     "duration": 0.293139,
     "end_time": "2024-02-22T08:55:33.654941",
     "exception": false,
     "start_time": "2024-02-22T08:55:33.361802",
     "status": "completed"
    },
    "tags": []
   },
   "outputs": [
    {
     "data": {
      "text/html": [
       "<div>\n",
       "<style scoped>\n",
       "    .dataframe tbody tr th:only-of-type {\n",
       "        vertical-align: middle;\n",
       "    }\n",
       "\n",
       "    .dataframe tbody tr th {\n",
       "        vertical-align: top;\n",
       "    }\n",
       "\n",
       "    .dataframe thead th {\n",
       "        text-align: right;\n",
       "    }\n",
       "</style>\n",
       "<table border=\"1\" class=\"dataframe\">\n",
       "  <thead>\n",
       "    <tr style=\"text-align: right;\">\n",
       "      <th></th>\n",
       "      <th>Cement</th>\n",
       "      <th>Blast Furnace Slag</th>\n",
       "      <th>Fly Ash</th>\n",
       "      <th>Water</th>\n",
       "      <th>Superplasticizer</th>\n",
       "      <th>Coarse Aggregate</th>\n",
       "      <th>Fine Aggregate</th>\n",
       "      <th>Age</th>\n",
       "      <th>Strength</th>\n",
       "    </tr>\n",
       "  </thead>\n",
       "  <tbody>\n",
       "    <tr>\n",
       "      <th>0</th>\n",
       "      <td>540.0</td>\n",
       "      <td>0.0</td>\n",
       "      <td>0.0</td>\n",
       "      <td>162.0</td>\n",
       "      <td>2.5</td>\n",
       "      <td>1040.0</td>\n",
       "      <td>676.0</td>\n",
       "      <td>28</td>\n",
       "      <td>79.99</td>\n",
       "    </tr>\n",
       "    <tr>\n",
       "      <th>1</th>\n",
       "      <td>540.0</td>\n",
       "      <td>0.0</td>\n",
       "      <td>0.0</td>\n",
       "      <td>162.0</td>\n",
       "      <td>2.5</td>\n",
       "      <td>1055.0</td>\n",
       "      <td>676.0</td>\n",
       "      <td>28</td>\n",
       "      <td>61.89</td>\n",
       "    </tr>\n",
       "    <tr>\n",
       "      <th>2</th>\n",
       "      <td>332.5</td>\n",
       "      <td>142.5</td>\n",
       "      <td>0.0</td>\n",
       "      <td>228.0</td>\n",
       "      <td>0.0</td>\n",
       "      <td>932.0</td>\n",
       "      <td>594.0</td>\n",
       "      <td>270</td>\n",
       "      <td>40.27</td>\n",
       "    </tr>\n",
       "    <tr>\n",
       "      <th>3</th>\n",
       "      <td>332.5</td>\n",
       "      <td>142.5</td>\n",
       "      <td>0.0</td>\n",
       "      <td>228.0</td>\n",
       "      <td>0.0</td>\n",
       "      <td>932.0</td>\n",
       "      <td>594.0</td>\n",
       "      <td>365</td>\n",
       "      <td>41.05</td>\n",
       "    </tr>\n",
       "    <tr>\n",
       "      <th>4</th>\n",
       "      <td>198.6</td>\n",
       "      <td>132.4</td>\n",
       "      <td>0.0</td>\n",
       "      <td>192.0</td>\n",
       "      <td>0.0</td>\n",
       "      <td>978.4</td>\n",
       "      <td>825.5</td>\n",
       "      <td>360</td>\n",
       "      <td>44.30</td>\n",
       "    </tr>\n",
       "  </tbody>\n",
       "</table>\n",
       "</div>"
      ],
      "text/plain": [
       "   Cement  Blast Furnace Slag  Fly Ash  Water  Superplasticizer  \\\n",
       "0   540.0                 0.0      0.0  162.0               2.5   \n",
       "1   540.0                 0.0      0.0  162.0               2.5   \n",
       "2   332.5               142.5      0.0  228.0               0.0   \n",
       "3   332.5               142.5      0.0  228.0               0.0   \n",
       "4   198.6               132.4      0.0  192.0               0.0   \n",
       "\n",
       "   Coarse Aggregate  Fine Aggregate  Age  Strength  \n",
       "0            1040.0           676.0   28     79.99  \n",
       "1            1055.0           676.0   28     61.89  \n",
       "2             932.0           594.0  270     40.27  \n",
       "3             932.0           594.0  365     41.05  \n",
       "4             978.4           825.5  360     44.30  "
      ]
     },
     "execution_count": 3,
     "metadata": {},
     "output_type": "execute_result"
    }
   ],
   "source": [
    "concrete_data = pd.read_csv('https://s3-api.us-geo.objectstorage.softlayer.net/cf-courses-data/CognitiveClass/DL0101EN/labs/data/concrete_data.csv')\n",
    "concrete_data.head()"
   ]
  },
  {
   "cell_type": "markdown",
   "id": "d187831d",
   "metadata": {
    "papermill": {
     "duration": 0.013499,
     "end_time": "2024-02-22T08:55:33.682325",
     "exception": false,
     "start_time": "2024-02-22T08:55:33.668826",
     "status": "completed"
    },
    "tags": []
   },
   "source": [
    "So the first concrete sample has 540 cubic meter of cement, 0 cubic meter of blast furnace slag, 0 cubic meter of fly ash, 162 cubic meter of water, 2.5 cubic meter of superplaticizer, 1040 cubic meter of coarse aggregate, 676 cubic meter of fine aggregate. Such a concrete mix which is 28 days old, has a compressive strength of 79.99 MPa. \n"
   ]
  },
  {
   "cell_type": "markdown",
   "id": "e42cf852",
   "metadata": {
    "papermill": {
     "duration": 0.013522,
     "end_time": "2024-02-22T08:55:33.710278",
     "exception": false,
     "start_time": "2024-02-22T08:55:33.696756",
     "status": "completed"
    },
    "tags": []
   },
   "source": [
    "#### Let's check how many data points we have.\n"
   ]
  },
  {
   "cell_type": "code",
   "execution_count": 4,
   "id": "dce51864",
   "metadata": {
    "execution": {
     "iopub.execute_input": "2024-02-22T08:55:33.739788Z",
     "iopub.status.busy": "2024-02-22T08:55:33.739363Z",
     "iopub.status.idle": "2024-02-22T08:55:33.745798Z",
     "shell.execute_reply": "2024-02-22T08:55:33.744961Z"
    },
    "papermill": {
     "duration": 0.024165,
     "end_time": "2024-02-22T08:55:33.748390",
     "exception": false,
     "start_time": "2024-02-22T08:55:33.724225",
     "status": "completed"
    },
    "tags": []
   },
   "outputs": [
    {
     "data": {
      "text/plain": [
       "(1030, 9)"
      ]
     },
     "execution_count": 4,
     "metadata": {},
     "output_type": "execute_result"
    }
   ],
   "source": [
    "concrete_data.shape"
   ]
  },
  {
   "cell_type": "markdown",
   "id": "bc11db36",
   "metadata": {
    "papermill": {
     "duration": 0.01432,
     "end_time": "2024-02-22T08:55:33.776839",
     "exception": false,
     "start_time": "2024-02-22T08:55:33.762519",
     "status": "completed"
    },
    "tags": []
   },
   "source": [
    "So, there are approximately 1000 samples to train our model on. Because of the few samples, we have to be careful not to overfit the training data.\n"
   ]
  },
  {
   "cell_type": "markdown",
   "id": "20973f0e",
   "metadata": {
    "papermill": {
     "duration": 0.014001,
     "end_time": "2024-02-22T08:55:33.804980",
     "exception": false,
     "start_time": "2024-02-22T08:55:33.790979",
     "status": "completed"
    },
    "tags": []
   },
   "source": [
    "Let's check the dataset for any missing values.\n"
   ]
  },
  {
   "cell_type": "code",
   "execution_count": 5,
   "id": "9b7fd1d8",
   "metadata": {
    "execution": {
     "iopub.execute_input": "2024-02-22T08:55:33.836168Z",
     "iopub.status.busy": "2024-02-22T08:55:33.835739Z",
     "iopub.status.idle": "2024-02-22T08:55:33.881478Z",
     "shell.execute_reply": "2024-02-22T08:55:33.880311Z"
    },
    "papermill": {
     "duration": 0.063968,
     "end_time": "2024-02-22T08:55:33.883858",
     "exception": false,
     "start_time": "2024-02-22T08:55:33.819890",
     "status": "completed"
    },
    "tags": []
   },
   "outputs": [
    {
     "data": {
      "text/html": [
       "<div>\n",
       "<style scoped>\n",
       "    .dataframe tbody tr th:only-of-type {\n",
       "        vertical-align: middle;\n",
       "    }\n",
       "\n",
       "    .dataframe tbody tr th {\n",
       "        vertical-align: top;\n",
       "    }\n",
       "\n",
       "    .dataframe thead th {\n",
       "        text-align: right;\n",
       "    }\n",
       "</style>\n",
       "<table border=\"1\" class=\"dataframe\">\n",
       "  <thead>\n",
       "    <tr style=\"text-align: right;\">\n",
       "      <th></th>\n",
       "      <th>Cement</th>\n",
       "      <th>Blast Furnace Slag</th>\n",
       "      <th>Fly Ash</th>\n",
       "      <th>Water</th>\n",
       "      <th>Superplasticizer</th>\n",
       "      <th>Coarse Aggregate</th>\n",
       "      <th>Fine Aggregate</th>\n",
       "      <th>Age</th>\n",
       "      <th>Strength</th>\n",
       "    </tr>\n",
       "  </thead>\n",
       "  <tbody>\n",
       "    <tr>\n",
       "      <th>count</th>\n",
       "      <td>1030.000000</td>\n",
       "      <td>1030.000000</td>\n",
       "      <td>1030.000000</td>\n",
       "      <td>1030.000000</td>\n",
       "      <td>1030.000000</td>\n",
       "      <td>1030.000000</td>\n",
       "      <td>1030.000000</td>\n",
       "      <td>1030.000000</td>\n",
       "      <td>1030.000000</td>\n",
       "    </tr>\n",
       "    <tr>\n",
       "      <th>mean</th>\n",
       "      <td>281.167864</td>\n",
       "      <td>73.895825</td>\n",
       "      <td>54.188350</td>\n",
       "      <td>181.567282</td>\n",
       "      <td>6.204660</td>\n",
       "      <td>972.918932</td>\n",
       "      <td>773.580485</td>\n",
       "      <td>45.662136</td>\n",
       "      <td>35.817961</td>\n",
       "    </tr>\n",
       "    <tr>\n",
       "      <th>std</th>\n",
       "      <td>104.506364</td>\n",
       "      <td>86.279342</td>\n",
       "      <td>63.997004</td>\n",
       "      <td>21.354219</td>\n",
       "      <td>5.973841</td>\n",
       "      <td>77.753954</td>\n",
       "      <td>80.175980</td>\n",
       "      <td>63.169912</td>\n",
       "      <td>16.705742</td>\n",
       "    </tr>\n",
       "    <tr>\n",
       "      <th>min</th>\n",
       "      <td>102.000000</td>\n",
       "      <td>0.000000</td>\n",
       "      <td>0.000000</td>\n",
       "      <td>121.800000</td>\n",
       "      <td>0.000000</td>\n",
       "      <td>801.000000</td>\n",
       "      <td>594.000000</td>\n",
       "      <td>1.000000</td>\n",
       "      <td>2.330000</td>\n",
       "    </tr>\n",
       "    <tr>\n",
       "      <th>25%</th>\n",
       "      <td>192.375000</td>\n",
       "      <td>0.000000</td>\n",
       "      <td>0.000000</td>\n",
       "      <td>164.900000</td>\n",
       "      <td>0.000000</td>\n",
       "      <td>932.000000</td>\n",
       "      <td>730.950000</td>\n",
       "      <td>7.000000</td>\n",
       "      <td>23.710000</td>\n",
       "    </tr>\n",
       "    <tr>\n",
       "      <th>50%</th>\n",
       "      <td>272.900000</td>\n",
       "      <td>22.000000</td>\n",
       "      <td>0.000000</td>\n",
       "      <td>185.000000</td>\n",
       "      <td>6.400000</td>\n",
       "      <td>968.000000</td>\n",
       "      <td>779.500000</td>\n",
       "      <td>28.000000</td>\n",
       "      <td>34.445000</td>\n",
       "    </tr>\n",
       "    <tr>\n",
       "      <th>75%</th>\n",
       "      <td>350.000000</td>\n",
       "      <td>142.950000</td>\n",
       "      <td>118.300000</td>\n",
       "      <td>192.000000</td>\n",
       "      <td>10.200000</td>\n",
       "      <td>1029.400000</td>\n",
       "      <td>824.000000</td>\n",
       "      <td>56.000000</td>\n",
       "      <td>46.135000</td>\n",
       "    </tr>\n",
       "    <tr>\n",
       "      <th>max</th>\n",
       "      <td>540.000000</td>\n",
       "      <td>359.400000</td>\n",
       "      <td>200.100000</td>\n",
       "      <td>247.000000</td>\n",
       "      <td>32.200000</td>\n",
       "      <td>1145.000000</td>\n",
       "      <td>992.600000</td>\n",
       "      <td>365.000000</td>\n",
       "      <td>82.600000</td>\n",
       "    </tr>\n",
       "  </tbody>\n",
       "</table>\n",
       "</div>"
      ],
      "text/plain": [
       "            Cement  Blast Furnace Slag      Fly Ash        Water  \\\n",
       "count  1030.000000         1030.000000  1030.000000  1030.000000   \n",
       "mean    281.167864           73.895825    54.188350   181.567282   \n",
       "std     104.506364           86.279342    63.997004    21.354219   \n",
       "min     102.000000            0.000000     0.000000   121.800000   \n",
       "25%     192.375000            0.000000     0.000000   164.900000   \n",
       "50%     272.900000           22.000000     0.000000   185.000000   \n",
       "75%     350.000000          142.950000   118.300000   192.000000   \n",
       "max     540.000000          359.400000   200.100000   247.000000   \n",
       "\n",
       "       Superplasticizer  Coarse Aggregate  Fine Aggregate          Age  \\\n",
       "count       1030.000000       1030.000000     1030.000000  1030.000000   \n",
       "mean           6.204660        972.918932      773.580485    45.662136   \n",
       "std            5.973841         77.753954       80.175980    63.169912   \n",
       "min            0.000000        801.000000      594.000000     1.000000   \n",
       "25%            0.000000        932.000000      730.950000     7.000000   \n",
       "50%            6.400000        968.000000      779.500000    28.000000   \n",
       "75%           10.200000       1029.400000      824.000000    56.000000   \n",
       "max           32.200000       1145.000000      992.600000   365.000000   \n",
       "\n",
       "          Strength  \n",
       "count  1030.000000  \n",
       "mean     35.817961  \n",
       "std      16.705742  \n",
       "min       2.330000  \n",
       "25%      23.710000  \n",
       "50%      34.445000  \n",
       "75%      46.135000  \n",
       "max      82.600000  "
      ]
     },
     "execution_count": 5,
     "metadata": {},
     "output_type": "execute_result"
    }
   ],
   "source": [
    "concrete_data.describe()"
   ]
  },
  {
   "cell_type": "code",
   "execution_count": 6,
   "id": "35c50c0c",
   "metadata": {
    "execution": {
     "iopub.execute_input": "2024-02-22T08:55:33.914801Z",
     "iopub.status.busy": "2024-02-22T08:55:33.914373Z",
     "iopub.status.idle": "2024-02-22T08:55:33.938669Z",
     "shell.execute_reply": "2024-02-22T08:55:33.937541Z"
    },
    "papermill": {
     "duration": 0.043289,
     "end_time": "2024-02-22T08:55:33.941710",
     "exception": false,
     "start_time": "2024-02-22T08:55:33.898421",
     "status": "completed"
    },
    "tags": []
   },
   "outputs": [
    {
     "name": "stdout",
     "output_type": "stream",
     "text": [
      "<class 'pandas.core.frame.DataFrame'>\n",
      "RangeIndex: 1030 entries, 0 to 1029\n",
      "Data columns (total 9 columns):\n",
      " #   Column              Non-Null Count  Dtype  \n",
      "---  ------              --------------  -----  \n",
      " 0   Cement              1030 non-null   float64\n",
      " 1   Blast Furnace Slag  1030 non-null   float64\n",
      " 2   Fly Ash             1030 non-null   float64\n",
      " 3   Water               1030 non-null   float64\n",
      " 4   Superplasticizer    1030 non-null   float64\n",
      " 5   Coarse Aggregate    1030 non-null   float64\n",
      " 6   Fine Aggregate      1030 non-null   float64\n",
      " 7   Age                 1030 non-null   int64  \n",
      " 8   Strength            1030 non-null   float64\n",
      "dtypes: float64(8), int64(1)\n",
      "memory usage: 72.5 KB\n"
     ]
    }
   ],
   "source": [
    "concrete_data.info()"
   ]
  },
  {
   "cell_type": "code",
   "execution_count": 7,
   "id": "556734fe",
   "metadata": {
    "execution": {
     "iopub.execute_input": "2024-02-22T08:55:33.972566Z",
     "iopub.status.busy": "2024-02-22T08:55:33.972180Z",
     "iopub.status.idle": "2024-02-22T08:55:33.981044Z",
     "shell.execute_reply": "2024-02-22T08:55:33.979856Z"
    },
    "papermill": {
     "duration": 0.027666,
     "end_time": "2024-02-22T08:55:33.983927",
     "exception": false,
     "start_time": "2024-02-22T08:55:33.956261",
     "status": "completed"
    },
    "tags": []
   },
   "outputs": [
    {
     "data": {
      "text/plain": [
       "Cement                0\n",
       "Blast Furnace Slag    0\n",
       "Fly Ash               0\n",
       "Water                 0\n",
       "Superplasticizer      0\n",
       "Coarse Aggregate      0\n",
       "Fine Aggregate        0\n",
       "Age                   0\n",
       "Strength              0\n",
       "dtype: int64"
      ]
     },
     "execution_count": 7,
     "metadata": {},
     "output_type": "execute_result"
    }
   ],
   "source": [
    "concrete_data.isnull().sum()"
   ]
  },
  {
   "cell_type": "markdown",
   "id": "d2aab227",
   "metadata": {
    "papermill": {
     "duration": 0.014534,
     "end_time": "2024-02-22T08:55:34.013311",
     "exception": false,
     "start_time": "2024-02-22T08:55:33.998777",
     "status": "completed"
    },
    "tags": []
   },
   "source": [
    "The data looks very clean and is ready to be used to build our model.\n"
   ]
  },
  {
   "cell_type": "markdown",
   "id": "35c1e91b",
   "metadata": {
    "papermill": {
     "duration": 0.01464,
     "end_time": "2024-02-22T08:55:34.042962",
     "exception": false,
     "start_time": "2024-02-22T08:55:34.028322",
     "status": "completed"
    },
    "tags": []
   },
   "source": [
    "#### Split data into predictors and target\n"
   ]
  },
  {
   "cell_type": "markdown",
   "id": "088c6045",
   "metadata": {
    "papermill": {
     "duration": 0.014643,
     "end_time": "2024-02-22T08:55:34.134406",
     "exception": false,
     "start_time": "2024-02-22T08:55:34.119763",
     "status": "completed"
    },
    "tags": []
   },
   "source": [
    "The target variable in this problem is the concrete sample strength. Therefore, our predictors will be all the other columns.\n"
   ]
  },
  {
   "cell_type": "code",
   "execution_count": 8,
   "id": "10b44702",
   "metadata": {
    "execution": {
     "iopub.execute_input": "2024-02-22T08:55:34.167462Z",
     "iopub.status.busy": "2024-02-22T08:55:34.167047Z",
     "iopub.status.idle": "2024-02-22T08:55:34.176003Z",
     "shell.execute_reply": "2024-02-22T08:55:34.174947Z"
    },
    "papermill": {
     "duration": 0.028123,
     "end_time": "2024-02-22T08:55:34.178510",
     "exception": false,
     "start_time": "2024-02-22T08:55:34.150387",
     "status": "completed"
    },
    "tags": []
   },
   "outputs": [],
   "source": [
    "concrete_data_columns = concrete_data.columns\n",
    "\n",
    "predictors = concrete_data.drop('Strength', axis=1) # all columns except Strength\n",
    "target = concrete_data['Strength'] # Strength column"
   ]
  },
  {
   "cell_type": "markdown",
   "id": "2fe79e4a",
   "metadata": {
    "papermill": {
     "duration": 0.014909,
     "end_time": "2024-02-22T08:55:34.208710",
     "exception": false,
     "start_time": "2024-02-22T08:55:34.193801",
     "status": "completed"
    },
    "tags": []
   },
   "source": [
    "<a id=\"item2\"></a>\n"
   ]
  },
  {
   "cell_type": "markdown",
   "id": "946ef512",
   "metadata": {
    "papermill": {
     "duration": 0.014461,
     "end_time": "2024-02-22T08:55:34.239276",
     "exception": false,
     "start_time": "2024-02-22T08:55:34.224815",
     "status": "completed"
    },
    "tags": []
   },
   "source": [
    "Let's do a quick sanity check of the predictors and the target dataframes.\n"
   ]
  },
  {
   "cell_type": "code",
   "execution_count": 9,
   "id": "27debfa5",
   "metadata": {
    "execution": {
     "iopub.execute_input": "2024-02-22T08:55:34.270470Z",
     "iopub.status.busy": "2024-02-22T08:55:34.270114Z",
     "iopub.status.idle": "2024-02-22T08:55:34.289848Z",
     "shell.execute_reply": "2024-02-22T08:55:34.288670Z"
    },
    "papermill": {
     "duration": 0.038116,
     "end_time": "2024-02-22T08:55:34.292154",
     "exception": false,
     "start_time": "2024-02-22T08:55:34.254038",
     "status": "completed"
    },
    "tags": []
   },
   "outputs": [
    {
     "data": {
      "text/html": [
       "<div>\n",
       "<style scoped>\n",
       "    .dataframe tbody tr th:only-of-type {\n",
       "        vertical-align: middle;\n",
       "    }\n",
       "\n",
       "    .dataframe tbody tr th {\n",
       "        vertical-align: top;\n",
       "    }\n",
       "\n",
       "    .dataframe thead th {\n",
       "        text-align: right;\n",
       "    }\n",
       "</style>\n",
       "<table border=\"1\" class=\"dataframe\">\n",
       "  <thead>\n",
       "    <tr style=\"text-align: right;\">\n",
       "      <th></th>\n",
       "      <th>Cement</th>\n",
       "      <th>Blast Furnace Slag</th>\n",
       "      <th>Fly Ash</th>\n",
       "      <th>Water</th>\n",
       "      <th>Superplasticizer</th>\n",
       "      <th>Coarse Aggregate</th>\n",
       "      <th>Fine Aggregate</th>\n",
       "      <th>Age</th>\n",
       "    </tr>\n",
       "  </thead>\n",
       "  <tbody>\n",
       "    <tr>\n",
       "      <th>0</th>\n",
       "      <td>540.0</td>\n",
       "      <td>0.0</td>\n",
       "      <td>0.0</td>\n",
       "      <td>162.0</td>\n",
       "      <td>2.5</td>\n",
       "      <td>1040.0</td>\n",
       "      <td>676.0</td>\n",
       "      <td>28</td>\n",
       "    </tr>\n",
       "    <tr>\n",
       "      <th>1</th>\n",
       "      <td>540.0</td>\n",
       "      <td>0.0</td>\n",
       "      <td>0.0</td>\n",
       "      <td>162.0</td>\n",
       "      <td>2.5</td>\n",
       "      <td>1055.0</td>\n",
       "      <td>676.0</td>\n",
       "      <td>28</td>\n",
       "    </tr>\n",
       "    <tr>\n",
       "      <th>2</th>\n",
       "      <td>332.5</td>\n",
       "      <td>142.5</td>\n",
       "      <td>0.0</td>\n",
       "      <td>228.0</td>\n",
       "      <td>0.0</td>\n",
       "      <td>932.0</td>\n",
       "      <td>594.0</td>\n",
       "      <td>270</td>\n",
       "    </tr>\n",
       "    <tr>\n",
       "      <th>3</th>\n",
       "      <td>332.5</td>\n",
       "      <td>142.5</td>\n",
       "      <td>0.0</td>\n",
       "      <td>228.0</td>\n",
       "      <td>0.0</td>\n",
       "      <td>932.0</td>\n",
       "      <td>594.0</td>\n",
       "      <td>365</td>\n",
       "    </tr>\n",
       "    <tr>\n",
       "      <th>4</th>\n",
       "      <td>198.6</td>\n",
       "      <td>132.4</td>\n",
       "      <td>0.0</td>\n",
       "      <td>192.0</td>\n",
       "      <td>0.0</td>\n",
       "      <td>978.4</td>\n",
       "      <td>825.5</td>\n",
       "      <td>360</td>\n",
       "    </tr>\n",
       "  </tbody>\n",
       "</table>\n",
       "</div>"
      ],
      "text/plain": [
       "   Cement  Blast Furnace Slag  Fly Ash  Water  Superplasticizer  \\\n",
       "0   540.0                 0.0      0.0  162.0               2.5   \n",
       "1   540.0                 0.0      0.0  162.0               2.5   \n",
       "2   332.5               142.5      0.0  228.0               0.0   \n",
       "3   332.5               142.5      0.0  228.0               0.0   \n",
       "4   198.6               132.4      0.0  192.0               0.0   \n",
       "\n",
       "   Coarse Aggregate  Fine Aggregate  Age  \n",
       "0            1040.0           676.0   28  \n",
       "1            1055.0           676.0   28  \n",
       "2             932.0           594.0  270  \n",
       "3             932.0           594.0  365  \n",
       "4             978.4           825.5  360  "
      ]
     },
     "execution_count": 9,
     "metadata": {},
     "output_type": "execute_result"
    }
   ],
   "source": [
    "predictors.head()"
   ]
  },
  {
   "cell_type": "code",
   "execution_count": 10,
   "id": "afd0c4db",
   "metadata": {
    "execution": {
     "iopub.execute_input": "2024-02-22T08:55:34.325848Z",
     "iopub.status.busy": "2024-02-22T08:55:34.325043Z",
     "iopub.status.idle": "2024-02-22T08:55:34.333507Z",
     "shell.execute_reply": "2024-02-22T08:55:34.332183Z"
    },
    "papermill": {
     "duration": 0.028387,
     "end_time": "2024-02-22T08:55:34.336115",
     "exception": false,
     "start_time": "2024-02-22T08:55:34.307728",
     "status": "completed"
    },
    "tags": []
   },
   "outputs": [
    {
     "data": {
      "text/plain": [
       "0    79.99\n",
       "1    61.89\n",
       "2    40.27\n",
       "3    41.05\n",
       "4    44.30\n",
       "Name: Strength, dtype: float64"
      ]
     },
     "execution_count": 10,
     "metadata": {},
     "output_type": "execute_result"
    }
   ],
   "source": [
    "target.head()"
   ]
  },
  {
   "cell_type": "markdown",
   "id": "216efb3d",
   "metadata": {
    "papermill": {
     "duration": 0.015099,
     "end_time": "2024-02-22T08:55:34.366566",
     "exception": false,
     "start_time": "2024-02-22T08:55:34.351467",
     "status": "completed"
    },
    "tags": []
   },
   "source": [
    "Finally, the last step is to normalize the data by substracting the mean and dividing by the standard deviation.\n"
   ]
  },
  {
   "cell_type": "code",
   "execution_count": 11,
   "id": "f162c7a2",
   "metadata": {
    "execution": {
     "iopub.execute_input": "2024-02-22T08:55:34.400874Z",
     "iopub.status.busy": "2024-02-22T08:55:34.400450Z",
     "iopub.status.idle": "2024-02-22T08:55:34.418669Z",
     "shell.execute_reply": "2024-02-22T08:55:34.417452Z"
    },
    "papermill": {
     "duration": 0.037925,
     "end_time": "2024-02-22T08:55:34.421289",
     "exception": false,
     "start_time": "2024-02-22T08:55:34.383364",
     "status": "completed"
    },
    "tags": []
   },
   "outputs": [
    {
     "data": {
      "text/html": [
       "<div>\n",
       "<style scoped>\n",
       "    .dataframe tbody tr th:only-of-type {\n",
       "        vertical-align: middle;\n",
       "    }\n",
       "\n",
       "    .dataframe tbody tr th {\n",
       "        vertical-align: top;\n",
       "    }\n",
       "\n",
       "    .dataframe thead th {\n",
       "        text-align: right;\n",
       "    }\n",
       "</style>\n",
       "<table border=\"1\" class=\"dataframe\">\n",
       "  <thead>\n",
       "    <tr style=\"text-align: right;\">\n",
       "      <th></th>\n",
       "      <th>Cement</th>\n",
       "      <th>Blast Furnace Slag</th>\n",
       "      <th>Fly Ash</th>\n",
       "      <th>Water</th>\n",
       "      <th>Superplasticizer</th>\n",
       "      <th>Coarse Aggregate</th>\n",
       "      <th>Fine Aggregate</th>\n",
       "      <th>Age</th>\n",
       "    </tr>\n",
       "  </thead>\n",
       "  <tbody>\n",
       "    <tr>\n",
       "      <th>0</th>\n",
       "      <td>2.476712</td>\n",
       "      <td>-0.856472</td>\n",
       "      <td>-0.846733</td>\n",
       "      <td>-0.916319</td>\n",
       "      <td>-0.620147</td>\n",
       "      <td>0.862735</td>\n",
       "      <td>-1.217079</td>\n",
       "      <td>-0.279597</td>\n",
       "    </tr>\n",
       "    <tr>\n",
       "      <th>1</th>\n",
       "      <td>2.476712</td>\n",
       "      <td>-0.856472</td>\n",
       "      <td>-0.846733</td>\n",
       "      <td>-0.916319</td>\n",
       "      <td>-0.620147</td>\n",
       "      <td>1.055651</td>\n",
       "      <td>-1.217079</td>\n",
       "      <td>-0.279597</td>\n",
       "    </tr>\n",
       "    <tr>\n",
       "      <th>2</th>\n",
       "      <td>0.491187</td>\n",
       "      <td>0.795140</td>\n",
       "      <td>-0.846733</td>\n",
       "      <td>2.174405</td>\n",
       "      <td>-1.038638</td>\n",
       "      <td>-0.526262</td>\n",
       "      <td>-2.239829</td>\n",
       "      <td>3.551340</td>\n",
       "    </tr>\n",
       "    <tr>\n",
       "      <th>3</th>\n",
       "      <td>0.491187</td>\n",
       "      <td>0.795140</td>\n",
       "      <td>-0.846733</td>\n",
       "      <td>2.174405</td>\n",
       "      <td>-1.038638</td>\n",
       "      <td>-0.526262</td>\n",
       "      <td>-2.239829</td>\n",
       "      <td>5.055221</td>\n",
       "    </tr>\n",
       "    <tr>\n",
       "      <th>4</th>\n",
       "      <td>-0.790075</td>\n",
       "      <td>0.678079</td>\n",
       "      <td>-0.846733</td>\n",
       "      <td>0.488555</td>\n",
       "      <td>-1.038638</td>\n",
       "      <td>0.070492</td>\n",
       "      <td>0.647569</td>\n",
       "      <td>4.976069</td>\n",
       "    </tr>\n",
       "  </tbody>\n",
       "</table>\n",
       "</div>"
      ],
      "text/plain": [
       "     Cement  Blast Furnace Slag   Fly Ash     Water  Superplasticizer  \\\n",
       "0  2.476712           -0.856472 -0.846733 -0.916319         -0.620147   \n",
       "1  2.476712           -0.856472 -0.846733 -0.916319         -0.620147   \n",
       "2  0.491187            0.795140 -0.846733  2.174405         -1.038638   \n",
       "3  0.491187            0.795140 -0.846733  2.174405         -1.038638   \n",
       "4 -0.790075            0.678079 -0.846733  0.488555         -1.038638   \n",
       "\n",
       "   Coarse Aggregate  Fine Aggregate       Age  \n",
       "0          0.862735       -1.217079 -0.279597  \n",
       "1          1.055651       -1.217079 -0.279597  \n",
       "2         -0.526262       -2.239829  3.551340  \n",
       "3         -0.526262       -2.239829  5.055221  \n",
       "4          0.070492        0.647569  4.976069  "
      ]
     },
     "execution_count": 11,
     "metadata": {},
     "output_type": "execute_result"
    }
   ],
   "source": [
    "predictors_norm = (predictors - predictors.mean()) / predictors.std()\n",
    "predictors_norm.head()"
   ]
  },
  {
   "cell_type": "markdown",
   "id": "343160eb",
   "metadata": {
    "papermill": {
     "duration": 0.015759,
     "end_time": "2024-02-22T08:55:34.452906",
     "exception": false,
     "start_time": "2024-02-22T08:55:34.437147",
     "status": "completed"
    },
    "tags": []
   },
   "source": [
    "Let's save the number of predictors to *n_cols* since we will need this number when building our network.\n"
   ]
  },
  {
   "cell_type": "code",
   "execution_count": 12,
   "id": "0d6a31d5",
   "metadata": {
    "execution": {
     "iopub.execute_input": "2024-02-22T08:55:34.486718Z",
     "iopub.status.busy": "2024-02-22T08:55:34.485913Z",
     "iopub.status.idle": "2024-02-22T08:55:34.491232Z",
     "shell.execute_reply": "2024-02-22T08:55:34.490207Z"
    },
    "papermill": {
     "duration": 0.025232,
     "end_time": "2024-02-22T08:55:34.493963",
     "exception": false,
     "start_time": "2024-02-22T08:55:34.468731",
     "status": "completed"
    },
    "tags": []
   },
   "outputs": [],
   "source": [
    "n_cols = predictors_norm.shape[1] # number of predictors"
   ]
  },
  {
   "cell_type": "markdown",
   "id": "f05507c2",
   "metadata": {
    "papermill": {
     "duration": 0.015261,
     "end_time": "2024-02-22T08:55:34.525024",
     "exception": false,
     "start_time": "2024-02-22T08:55:34.509763",
     "status": "completed"
    },
    "tags": []
   },
   "source": [
    "<a id=\"item1\"></a>\n"
   ]
  },
  {
   "cell_type": "markdown",
   "id": "e18139d7",
   "metadata": {
    "papermill": {
     "duration": 0.015378,
     "end_time": "2024-02-22T08:55:34.556514",
     "exception": false,
     "start_time": "2024-02-22T08:55:34.541136",
     "status": "completed"
    },
    "tags": []
   },
   "source": [
    "<a id='item32'></a>\n"
   ]
  },
  {
   "cell_type": "markdown",
   "id": "14d32312",
   "metadata": {
    "papermill": {
     "duration": 0.015209,
     "end_time": "2024-02-22T08:55:34.587502",
     "exception": false,
     "start_time": "2024-02-22T08:55:34.572293",
     "status": "completed"
    },
    "tags": []
   },
   "source": [
    "## Import Keras\n"
   ]
  },
  {
   "cell_type": "markdown",
   "id": "63fa040b",
   "metadata": {
    "papermill": {
     "duration": 0.015879,
     "end_time": "2024-02-22T08:55:34.619456",
     "exception": false,
     "start_time": "2024-02-22T08:55:34.603577",
     "status": "completed"
    },
    "tags": []
   },
   "source": [
    "Recall from the videos that Keras normally runs on top of a low-level library such as TensorFlow. This means that to be able to use the Keras library, you will have to install TensorFlow first and when you import the Keras library, it will be explicitly displayed what backend was used to install the Keras library. In CC Labs, we used TensorFlow as the backend to install Keras, so it should clearly print that when we import Keras.\n"
   ]
  },
  {
   "cell_type": "markdown",
   "id": "4bff05f1",
   "metadata": {
    "papermill": {
     "duration": 0.015345,
     "end_time": "2024-02-22T08:55:34.650514",
     "exception": false,
     "start_time": "2024-02-22T08:55:34.635169",
     "status": "completed"
    },
    "tags": []
   },
   "source": [
    "#### Let's go ahead and import the Keras library\n"
   ]
  },
  {
   "cell_type": "code",
   "execution_count": 13,
   "id": "4c79312f",
   "metadata": {
    "execution": {
     "iopub.execute_input": "2024-02-22T08:55:34.684238Z",
     "iopub.status.busy": "2024-02-22T08:55:34.683238Z",
     "iopub.status.idle": "2024-02-22T08:55:50.145978Z",
     "shell.execute_reply": "2024-02-22T08:55:50.144790Z"
    },
    "papermill": {
     "duration": 15.482736,
     "end_time": "2024-02-22T08:55:50.148926",
     "exception": false,
     "start_time": "2024-02-22T08:55:34.666190",
     "status": "completed"
    },
    "tags": []
   },
   "outputs": [
    {
     "name": "stderr",
     "output_type": "stream",
     "text": [
      "2024-02-22 08:55:36.873716: E external/local_xla/xla/stream_executor/cuda/cuda_dnn.cc:9261] Unable to register cuDNN factory: Attempting to register factory for plugin cuDNN when one has already been registered\n",
      "2024-02-22 08:55:36.873869: E external/local_xla/xla/stream_executor/cuda/cuda_fft.cc:607] Unable to register cuFFT factory: Attempting to register factory for plugin cuFFT when one has already been registered\n",
      "2024-02-22 08:55:37.030046: E external/local_xla/xla/stream_executor/cuda/cuda_blas.cc:1515] Unable to register cuBLAS factory: Attempting to register factory for plugin cuBLAS when one has already been registered\n"
     ]
    }
   ],
   "source": [
    "import keras"
   ]
  },
  {
   "cell_type": "markdown",
   "id": "81945917",
   "metadata": {
    "papermill": {
     "duration": 0.015753,
     "end_time": "2024-02-22T08:55:50.181043",
     "exception": false,
     "start_time": "2024-02-22T08:55:50.165290",
     "status": "completed"
    },
    "tags": []
   },
   "source": [
    "As you can see, the TensorFlow backend was used to install the Keras library.\n"
   ]
  },
  {
   "cell_type": "markdown",
   "id": "63def455",
   "metadata": {
    "papermill": {
     "duration": 0.015839,
     "end_time": "2024-02-22T08:55:50.213068",
     "exception": false,
     "start_time": "2024-02-22T08:55:50.197229",
     "status": "completed"
    },
    "tags": []
   },
   "source": [
    "Let's import the rest of the packages from the Keras library that we will need to build our regressoin model.\n"
   ]
  },
  {
   "cell_type": "code",
   "execution_count": 14,
   "id": "eb1a96a1",
   "metadata": {
    "execution": {
     "iopub.execute_input": "2024-02-22T08:55:50.247197Z",
     "iopub.status.busy": "2024-02-22T08:55:50.245836Z",
     "iopub.status.idle": "2024-02-22T08:55:50.251296Z",
     "shell.execute_reply": "2024-02-22T08:55:50.250360Z"
    },
    "papermill": {
     "duration": 0.024835,
     "end_time": "2024-02-22T08:55:50.253690",
     "exception": false,
     "start_time": "2024-02-22T08:55:50.228855",
     "status": "completed"
    },
    "tags": []
   },
   "outputs": [],
   "source": [
    "from keras.models import Sequential\n",
    "from keras.layers import Dense"
   ]
  },
  {
   "cell_type": "markdown",
   "id": "c8e67b82",
   "metadata": {
    "papermill": {
     "duration": 0.015727,
     "end_time": "2024-02-22T08:55:50.284968",
     "exception": false,
     "start_time": "2024-02-22T08:55:50.269241",
     "status": "completed"
    },
    "tags": []
   },
   "source": [
    "<a id='item33'></a>\n"
   ]
  },
  {
   "cell_type": "markdown",
   "id": "2a49ae71",
   "metadata": {
    "papermill": {
     "duration": 0.015371,
     "end_time": "2024-02-22T08:55:50.315916",
     "exception": false,
     "start_time": "2024-02-22T08:55:50.300545",
     "status": "completed"
    },
    "tags": []
   },
   "source": [
    "## Build a Neural Network\n"
   ]
  },
  {
   "cell_type": "markdown",
   "id": "f0139eda",
   "metadata": {
    "papermill": {
     "duration": 0.015302,
     "end_time": "2024-02-22T08:55:50.346814",
     "exception": false,
     "start_time": "2024-02-22T08:55:50.331512",
     "status": "completed"
    },
    "tags": []
   },
   "source": [
    "Let's define a function that defines our regression model for us so that we can conveniently call it to create our model.\n"
   ]
  },
  {
   "cell_type": "code",
   "execution_count": 15,
   "id": "f2d3c577",
   "metadata": {
    "execution": {
     "iopub.execute_input": "2024-02-22T08:55:50.380717Z",
     "iopub.status.busy": "2024-02-22T08:55:50.379914Z",
     "iopub.status.idle": "2024-02-22T08:55:50.386631Z",
     "shell.execute_reply": "2024-02-22T08:55:50.385777Z"
    },
    "papermill": {
     "duration": 0.026607,
     "end_time": "2024-02-22T08:55:50.389212",
     "exception": false,
     "start_time": "2024-02-22T08:55:50.362605",
     "status": "completed"
    },
    "tags": []
   },
   "outputs": [],
   "source": [
    "# define regression model\n",
    "def regression_model():\n",
    "    # create model\n",
    "    model = Sequential()\n",
    "    model.add(Dense(50, activation='relu', input_shape=(n_cols,)))\n",
    "    model.add(Dense(50, activation='relu'))\n",
    "    model.add(Dense(1))\n",
    "    \n",
    "    # compile model\n",
    "    model.compile(optimizer='adam', loss='mean_squared_error')\n",
    "    return model"
   ]
  },
  {
   "cell_type": "markdown",
   "id": "9841dbda",
   "metadata": {
    "papermill": {
     "duration": 0.015316,
     "end_time": "2024-02-22T08:55:50.420088",
     "exception": false,
     "start_time": "2024-02-22T08:55:50.404772",
     "status": "completed"
    },
    "tags": []
   },
   "source": [
    "The above function create a model that has two hidden layers, each of 50 hidden units.\n"
   ]
  },
  {
   "cell_type": "markdown",
   "id": "1c41e119",
   "metadata": {
    "papermill": {
     "duration": 0.017153,
     "end_time": "2024-02-22T08:55:50.452836",
     "exception": false,
     "start_time": "2024-02-22T08:55:50.435683",
     "status": "completed"
    },
    "tags": []
   },
   "source": [
    "<a id=\"item4\"></a>\n"
   ]
  },
  {
   "cell_type": "markdown",
   "id": "4bd18327",
   "metadata": {
    "papermill": {
     "duration": 0.015549,
     "end_time": "2024-02-22T08:55:50.484065",
     "exception": false,
     "start_time": "2024-02-22T08:55:50.468516",
     "status": "completed"
    },
    "tags": []
   },
   "source": [
    "<a id='item34'></a>\n"
   ]
  },
  {
   "cell_type": "markdown",
   "id": "a0281b78",
   "metadata": {
    "papermill": {
     "duration": 0.015612,
     "end_time": "2024-02-22T08:55:50.515637",
     "exception": false,
     "start_time": "2024-02-22T08:55:50.500025",
     "status": "completed"
    },
    "tags": []
   },
   "source": [
    "## Train and Test the Network\n"
   ]
  },
  {
   "cell_type": "markdown",
   "id": "e580700b",
   "metadata": {
    "papermill": {
     "duration": 0.015479,
     "end_time": "2024-02-22T08:55:50.546841",
     "exception": false,
     "start_time": "2024-02-22T08:55:50.531362",
     "status": "completed"
    },
    "tags": []
   },
   "source": [
    "Let's call the function now to create our model.\n"
   ]
  },
  {
   "cell_type": "code",
   "execution_count": 16,
   "id": "30bd07d3",
   "metadata": {
    "execution": {
     "iopub.execute_input": "2024-02-22T08:55:50.580332Z",
     "iopub.status.busy": "2024-02-22T08:55:50.579946Z",
     "iopub.status.idle": "2024-02-22T08:55:50.728365Z",
     "shell.execute_reply": "2024-02-22T08:55:50.727198Z"
    },
    "papermill": {
     "duration": 0.168645,
     "end_time": "2024-02-22T08:55:50.731293",
     "exception": false,
     "start_time": "2024-02-22T08:55:50.562648",
     "status": "completed"
    },
    "tags": []
   },
   "outputs": [],
   "source": [
    "# build the model\n",
    "model = regression_model()"
   ]
  },
  {
   "cell_type": "markdown",
   "id": "0abeed7d",
   "metadata": {
    "papermill": {
     "duration": 0.015317,
     "end_time": "2024-02-22T08:55:50.762294",
     "exception": false,
     "start_time": "2024-02-22T08:55:50.746977",
     "status": "completed"
    },
    "tags": []
   },
   "source": [
    "Next, we will train and test the model at the same time using the *fit* method. We will leave out 30% of the data for validation and we will train the model for 100 epochs.\n"
   ]
  },
  {
   "cell_type": "code",
   "execution_count": 17,
   "id": "92681c37",
   "metadata": {
    "execution": {
     "iopub.execute_input": "2024-02-22T08:55:50.796254Z",
     "iopub.status.busy": "2024-02-22T08:55:50.795014Z",
     "iopub.status.idle": "2024-02-22T08:56:00.578584Z",
     "shell.execute_reply": "2024-02-22T08:56:00.577241Z"
    },
    "papermill": {
     "duration": 9.803594,
     "end_time": "2024-02-22T08:56:00.581581",
     "exception": false,
     "start_time": "2024-02-22T08:55:50.777987",
     "status": "completed"
    },
    "tags": []
   },
   "outputs": [
    {
     "name": "stdout",
     "output_type": "stream",
     "text": [
      "Epoch 1/100\n",
      "23/23 - 1s - loss: 1668.1816 - val_loss: 1165.3488 - 1s/epoch - 48ms/step\n",
      "Epoch 2/100\n",
      "23/23 - 0s - loss: 1546.0193 - val_loss: 1060.4935 - 80ms/epoch - 3ms/step\n",
      "Epoch 3/100\n",
      "23/23 - 0s - loss: 1346.7335 - val_loss: 890.9476 - 82ms/epoch - 4ms/step\n",
      "Epoch 4/100\n",
      "23/23 - 0s - loss: 1039.2908 - val_loss: 655.0470 - 97ms/epoch - 4ms/step\n",
      "Epoch 5/100\n",
      "23/23 - 0s - loss: 671.9941 - val_loss: 411.6715 - 78ms/epoch - 3ms/step\n",
      "Epoch 6/100\n",
      "23/23 - 0s - loss: 376.2432 - val_loss: 248.9877 - 127ms/epoch - 6ms/step\n",
      "Epoch 7/100\n",
      "23/23 - 0s - loss: 260.2463 - val_loss: 190.0199 - 76ms/epoch - 3ms/step\n",
      "Epoch 8/100\n",
      "23/23 - 0s - loss: 230.1510 - val_loss: 174.8410 - 83ms/epoch - 4ms/step\n",
      "Epoch 9/100\n",
      "23/23 - 0s - loss: 216.1672 - val_loss: 167.5909 - 76ms/epoch - 3ms/step\n",
      "Epoch 10/100\n",
      "23/23 - 0s - loss: 205.1800 - val_loss: 164.2347 - 78ms/epoch - 3ms/step\n",
      "Epoch 11/100\n",
      "23/23 - 0s - loss: 196.9222 - val_loss: 161.3197 - 78ms/epoch - 3ms/step\n",
      "Epoch 12/100\n",
      "23/23 - 0s - loss: 190.4738 - val_loss: 159.1108 - 81ms/epoch - 4ms/step\n",
      "Epoch 13/100\n",
      "23/23 - 0s - loss: 183.8029 - val_loss: 155.9934 - 80ms/epoch - 3ms/step\n",
      "Epoch 14/100\n",
      "23/23 - 0s - loss: 179.0575 - val_loss: 154.2766 - 86ms/epoch - 4ms/step\n",
      "Epoch 15/100\n",
      "23/23 - 0s - loss: 174.0203 - val_loss: 155.2191 - 84ms/epoch - 4ms/step\n",
      "Epoch 16/100\n",
      "23/23 - 0s - loss: 170.1878 - val_loss: 152.6104 - 84ms/epoch - 4ms/step\n",
      "Epoch 17/100\n",
      "23/23 - 0s - loss: 166.0070 - val_loss: 152.3044 - 83ms/epoch - 4ms/step\n",
      "Epoch 18/100\n",
      "23/23 - 0s - loss: 162.9071 - val_loss: 150.1246 - 83ms/epoch - 4ms/step\n",
      "Epoch 19/100\n",
      "23/23 - 0s - loss: 160.0515 - val_loss: 150.3783 - 81ms/epoch - 4ms/step\n",
      "Epoch 20/100\n",
      "23/23 - 0s - loss: 157.5657 - val_loss: 148.2719 - 81ms/epoch - 4ms/step\n",
      "Epoch 21/100\n",
      "23/23 - 0s - loss: 154.8830 - val_loss: 149.4162 - 79ms/epoch - 3ms/step\n",
      "Epoch 22/100\n",
      "23/23 - 0s - loss: 152.7114 - val_loss: 150.8902 - 80ms/epoch - 3ms/step\n",
      "Epoch 23/100\n",
      "23/23 - 0s - loss: 151.0779 - val_loss: 148.8147 - 81ms/epoch - 4ms/step\n",
      "Epoch 24/100\n",
      "23/23 - 0s - loss: 148.2902 - val_loss: 150.4711 - 77ms/epoch - 3ms/step\n",
      "Epoch 25/100\n",
      "23/23 - 0s - loss: 146.5386 - val_loss: 149.6351 - 78ms/epoch - 3ms/step\n",
      "Epoch 26/100\n",
      "23/23 - 0s - loss: 145.2664 - val_loss: 150.2496 - 83ms/epoch - 4ms/step\n",
      "Epoch 27/100\n",
      "23/23 - 0s - loss: 143.2385 - val_loss: 149.3946 - 85ms/epoch - 4ms/step\n",
      "Epoch 28/100\n",
      "23/23 - 0s - loss: 142.0047 - val_loss: 152.6732 - 75ms/epoch - 3ms/step\n",
      "Epoch 29/100\n",
      "23/23 - 0s - loss: 140.9396 - val_loss: 150.7568 - 76ms/epoch - 3ms/step\n",
      "Epoch 30/100\n",
      "23/23 - 0s - loss: 139.3947 - val_loss: 150.2874 - 77ms/epoch - 3ms/step\n",
      "Epoch 31/100\n",
      "23/23 - 0s - loss: 138.3416 - val_loss: 151.7491 - 75ms/epoch - 3ms/step\n",
      "Epoch 32/100\n",
      "23/23 - 0s - loss: 136.8091 - val_loss: 150.5392 - 75ms/epoch - 3ms/step\n",
      "Epoch 33/100\n",
      "23/23 - 0s - loss: 136.0817 - val_loss: 150.4214 - 74ms/epoch - 3ms/step\n",
      "Epoch 34/100\n",
      "23/23 - 0s - loss: 134.8158 - val_loss: 150.5263 - 80ms/epoch - 3ms/step\n",
      "Epoch 35/100\n",
      "23/23 - 0s - loss: 133.6056 - val_loss: 152.6483 - 86ms/epoch - 4ms/step\n",
      "Epoch 36/100\n",
      "23/23 - 0s - loss: 132.6658 - val_loss: 151.2807 - 90ms/epoch - 4ms/step\n",
      "Epoch 37/100\n",
      "23/23 - 0s - loss: 131.4272 - val_loss: 151.1029 - 78ms/epoch - 3ms/step\n",
      "Epoch 38/100\n",
      "23/23 - 0s - loss: 130.4986 - val_loss: 150.2943 - 77ms/epoch - 3ms/step\n",
      "Epoch 39/100\n",
      "23/23 - 0s - loss: 130.1913 - val_loss: 151.3356 - 85ms/epoch - 4ms/step\n",
      "Epoch 40/100\n",
      "23/23 - 0s - loss: 129.3341 - val_loss: 150.4221 - 79ms/epoch - 3ms/step\n",
      "Epoch 41/100\n",
      "23/23 - 0s - loss: 127.2558 - val_loss: 151.5589 - 78ms/epoch - 3ms/step\n",
      "Epoch 42/100\n",
      "23/23 - 0s - loss: 126.8361 - val_loss: 150.7830 - 74ms/epoch - 3ms/step\n",
      "Epoch 43/100\n",
      "23/23 - 0s - loss: 125.7289 - val_loss: 150.5800 - 85ms/epoch - 4ms/step\n",
      "Epoch 44/100\n",
      "23/23 - 0s - loss: 124.6479 - val_loss: 149.8066 - 73ms/epoch - 3ms/step\n",
      "Epoch 45/100\n",
      "23/23 - 0s - loss: 123.2569 - val_loss: 151.1129 - 77ms/epoch - 3ms/step\n",
      "Epoch 46/100\n",
      "23/23 - 0s - loss: 122.3977 - val_loss: 148.1911 - 76ms/epoch - 3ms/step\n",
      "Epoch 47/100\n",
      "23/23 - 0s - loss: 121.7033 - val_loss: 147.8195 - 75ms/epoch - 3ms/step\n",
      "Epoch 48/100\n",
      "23/23 - 0s - loss: 119.9208 - val_loss: 148.2301 - 77ms/epoch - 3ms/step\n",
      "Epoch 49/100\n",
      "23/23 - 0s - loss: 118.1879 - val_loss: 144.3297 - 81ms/epoch - 4ms/step\n",
      "Epoch 50/100\n",
      "23/23 - 0s - loss: 117.5055 - val_loss: 148.0822 - 80ms/epoch - 3ms/step\n",
      "Epoch 51/100\n",
      "23/23 - 0s - loss: 115.7942 - val_loss: 142.4704 - 81ms/epoch - 4ms/step\n",
      "Epoch 52/100\n",
      "23/23 - 0s - loss: 114.5330 - val_loss: 144.9770 - 87ms/epoch - 4ms/step\n",
      "Epoch 53/100\n",
      "23/23 - 0s - loss: 113.0618 - val_loss: 143.6740 - 85ms/epoch - 4ms/step\n",
      "Epoch 54/100\n",
      "23/23 - 0s - loss: 110.5890 - val_loss: 141.8503 - 85ms/epoch - 4ms/step\n",
      "Epoch 55/100\n",
      "23/23 - 0s - loss: 108.7811 - val_loss: 140.1841 - 85ms/epoch - 4ms/step\n",
      "Epoch 56/100\n",
      "23/23 - 0s - loss: 106.9773 - val_loss: 140.1639 - 79ms/epoch - 3ms/step\n",
      "Epoch 57/100\n",
      "23/23 - 0s - loss: 104.2575 - val_loss: 137.0475 - 79ms/epoch - 3ms/step\n",
      "Epoch 58/100\n",
      "23/23 - 0s - loss: 102.6651 - val_loss: 142.4566 - 82ms/epoch - 4ms/step\n",
      "Epoch 59/100\n",
      "23/23 - 0s - loss: 99.8560 - val_loss: 135.3967 - 79ms/epoch - 3ms/step\n",
      "Epoch 60/100\n",
      "23/23 - 0s - loss: 97.8286 - val_loss: 138.1409 - 82ms/epoch - 4ms/step\n",
      "Epoch 61/100\n",
      "23/23 - 0s - loss: 95.2979 - val_loss: 133.7957 - 84ms/epoch - 4ms/step\n",
      "Epoch 62/100\n",
      "23/23 - 0s - loss: 93.3633 - val_loss: 132.5132 - 81ms/epoch - 4ms/step\n",
      "Epoch 63/100\n",
      "23/23 - 0s - loss: 90.5085 - val_loss: 135.0652 - 80ms/epoch - 3ms/step\n",
      "Epoch 64/100\n",
      "23/23 - 0s - loss: 89.3670 - val_loss: 132.3484 - 152ms/epoch - 7ms/step\n",
      "Epoch 65/100\n",
      "23/23 - 0s - loss: 85.7224 - val_loss: 131.5011 - 77ms/epoch - 3ms/step\n",
      "Epoch 66/100\n",
      "23/23 - 0s - loss: 83.7686 - val_loss: 136.6643 - 76ms/epoch - 3ms/step\n",
      "Epoch 67/100\n",
      "23/23 - 0s - loss: 80.7355 - val_loss: 129.2311 - 83ms/epoch - 4ms/step\n",
      "Epoch 68/100\n",
      "23/23 - 0s - loss: 78.9928 - val_loss: 132.5814 - 87ms/epoch - 4ms/step\n",
      "Epoch 69/100\n",
      "23/23 - 0s - loss: 76.4976 - val_loss: 129.1410 - 82ms/epoch - 4ms/step\n",
      "Epoch 70/100\n",
      "23/23 - 0s - loss: 74.5534 - val_loss: 127.7987 - 76ms/epoch - 3ms/step\n",
      "Epoch 71/100\n",
      "23/23 - 0s - loss: 72.4859 - val_loss: 126.5101 - 73ms/epoch - 3ms/step\n",
      "Epoch 72/100\n",
      "23/23 - 0s - loss: 70.7177 - val_loss: 127.6936 - 79ms/epoch - 3ms/step\n",
      "Epoch 73/100\n",
      "23/23 - 0s - loss: 69.1268 - val_loss: 129.7034 - 82ms/epoch - 4ms/step\n",
      "Epoch 74/100\n",
      "23/23 - 0s - loss: 67.4483 - val_loss: 123.3866 - 84ms/epoch - 4ms/step\n",
      "Epoch 75/100\n",
      "23/23 - 0s - loss: 66.0982 - val_loss: 125.8062 - 82ms/epoch - 4ms/step\n",
      "Epoch 76/100\n",
      "23/23 - 0s - loss: 64.4368 - val_loss: 122.4139 - 76ms/epoch - 3ms/step\n",
      "Epoch 77/100\n",
      "23/23 - 0s - loss: 62.9461 - val_loss: 123.9357 - 76ms/epoch - 3ms/step\n",
      "Epoch 78/100\n",
      "23/23 - 0s - loss: 61.2827 - val_loss: 125.3041 - 76ms/epoch - 3ms/step\n",
      "Epoch 79/100\n",
      "23/23 - 0s - loss: 60.1121 - val_loss: 122.5336 - 76ms/epoch - 3ms/step\n",
      "Epoch 80/100\n",
      "23/23 - 0s - loss: 58.4987 - val_loss: 125.5725 - 95ms/epoch - 4ms/step\n",
      "Epoch 81/100\n",
      "23/23 - 0s - loss: 57.1875 - val_loss: 116.0991 - 75ms/epoch - 3ms/step\n",
      "Epoch 82/100\n",
      "23/23 - 0s - loss: 55.8607 - val_loss: 117.5142 - 77ms/epoch - 3ms/step\n",
      "Epoch 83/100\n",
      "23/23 - 0s - loss: 54.3814 - val_loss: 112.3156 - 76ms/epoch - 3ms/step\n",
      "Epoch 84/100\n",
      "23/23 - 0s - loss: 53.2930 - val_loss: 112.3528 - 76ms/epoch - 3ms/step\n",
      "Epoch 85/100\n",
      "23/23 - 0s - loss: 52.7527 - val_loss: 117.7031 - 74ms/epoch - 3ms/step\n",
      "Epoch 86/100\n",
      "23/23 - 0s - loss: 51.3042 - val_loss: 120.3319 - 75ms/epoch - 3ms/step\n",
      "Epoch 87/100\n",
      "23/23 - 0s - loss: 50.0579 - val_loss: 107.0875 - 79ms/epoch - 3ms/step\n",
      "Epoch 88/100\n",
      "23/23 - 0s - loss: 49.3456 - val_loss: 110.7945 - 80ms/epoch - 3ms/step\n",
      "Epoch 89/100\n",
      "23/23 - 0s - loss: 48.0667 - val_loss: 111.8487 - 87ms/epoch - 4ms/step\n",
      "Epoch 90/100\n",
      "23/23 - 0s - loss: 47.7157 - val_loss: 107.9363 - 80ms/epoch - 3ms/step\n",
      "Epoch 91/100\n",
      "23/23 - 0s - loss: 45.9551 - val_loss: 116.7309 - 79ms/epoch - 3ms/step\n",
      "Epoch 92/100\n",
      "23/23 - 0s - loss: 45.8834 - val_loss: 105.9997 - 82ms/epoch - 4ms/step\n",
      "Epoch 93/100\n",
      "23/23 - 0s - loss: 44.3804 - val_loss: 112.5860 - 80ms/epoch - 3ms/step\n",
      "Epoch 94/100\n",
      "23/23 - 0s - loss: 43.5442 - val_loss: 109.4795 - 79ms/epoch - 3ms/step\n",
      "Epoch 95/100\n",
      "23/23 - 0s - loss: 42.8408 - val_loss: 110.2149 - 84ms/epoch - 4ms/step\n",
      "Epoch 96/100\n",
      "23/23 - 0s - loss: 42.3598 - val_loss: 98.1365 - 82ms/epoch - 4ms/step\n",
      "Epoch 97/100\n",
      "23/23 - 0s - loss: 42.0752 - val_loss: 107.9272 - 77ms/epoch - 3ms/step\n",
      "Epoch 98/100\n",
      "23/23 - 0s - loss: 41.0590 - val_loss: 117.4216 - 87ms/epoch - 4ms/step\n",
      "Epoch 99/100\n",
      "23/23 - 0s - loss: 40.4343 - val_loss: 111.8052 - 86ms/epoch - 4ms/step\n",
      "Epoch 100/100\n",
      "23/23 - 0s - loss: 39.4058 - val_loss: 112.0236 - 83ms/epoch - 4ms/step\n"
     ]
    },
    {
     "data": {
      "text/plain": [
       "<keras.src.callbacks.History at 0x7d788bdef0d0>"
      ]
     },
     "execution_count": 17,
     "metadata": {},
     "output_type": "execute_result"
    }
   ],
   "source": [
    "# fit the model\n",
    "model.fit(predictors_norm, target, validation_split=0.3, epochs=100, verbose=2)"
   ]
  },
  {
   "cell_type": "markdown",
   "id": "fb9db5dd",
   "metadata": {
    "papermill": {
     "duration": 0.034475,
     "end_time": "2024-02-22T08:56:00.650992",
     "exception": false,
     "start_time": "2024-02-22T08:56:00.616517",
     "status": "completed"
    },
    "tags": []
   },
   "source": [
    "<strong>You can refer to this [link](https://keras.io/models/sequential/?utm_medium=Exinfluencer&utm_source=Exinfluencer&utm_content=000026UJ&utm_term=10006555&utm_id=NA-SkillsNetwork-Channel-SkillsNetworkCoursesIBMDeveloperSkillsNetworkDL0101ENSkillsNetwork945-2022-01-01) to learn about other functions that you can use for prediction or evaluation.</strong>\n"
   ]
  },
  {
   "cell_type": "markdown",
   "id": "4e34f468",
   "metadata": {
    "papermill": {
     "duration": 0.034199,
     "end_time": "2024-02-22T08:56:00.719856",
     "exception": false,
     "start_time": "2024-02-22T08:56:00.685657",
     "status": "completed"
    },
    "tags": []
   },
   "source": [
    "Feel free to vary the following and note what impact each change has on the model's performance:\n",
    "\n",
    "1. Increase or decreate number of neurons in hidden layers\n",
    "2. Add more hidden layers\n",
    "3. Increase number of epochs\n"
   ]
  }
 ],
 "metadata": {
  "kaggle": {
   "accelerator": "none",
   "dataSources": [],
   "dockerImageVersionId": 30646,
   "isGpuEnabled": false,
   "isInternetEnabled": true,
   "language": "python",
   "sourceType": "notebook"
  },
  "kernelspec": {
   "display_name": "Python 3",
   "language": "python",
   "name": "python3"
  },
  "language_info": {
   "codemirror_mode": {
    "name": "ipython",
    "version": 3
   },
   "file_extension": ".py",
   "mimetype": "text/x-python",
   "name": "python",
   "nbconvert_exporter": "python",
   "pygments_lexer": "ipython3",
   "version": "3.10.13"
  },
  "papermill": {
   "default_parameters": {},
   "duration": 34.196255,
   "end_time": "2024-02-22T08:56:03.178996",
   "environment_variables": {},
   "exception": null,
   "input_path": "__notebook__.ipynb",
   "output_path": "__notebook__.ipynb",
   "parameters": {},
   "start_time": "2024-02-22T08:55:28.982741",
   "version": "2.5.0"
  }
 },
 "nbformat": 4,
 "nbformat_minor": 5
}
