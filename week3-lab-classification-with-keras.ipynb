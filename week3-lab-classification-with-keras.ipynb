{
 "cells": [
  {
   "cell_type": "markdown",
   "id": "9e7244db",
   "metadata": {
    "papermill": {
     "duration": 0.006789,
     "end_time": "2024-02-22T09:20:26.310212",
     "exception": false,
     "start_time": "2024-02-22T09:20:26.303423",
     "status": "completed"
    },
    "tags": []
   },
   "source": [
    "<a href=\"https://cognitiveclass.ai/?utm_medium=Exinfluencer&utm_source=Exinfluencer&utm_content=000026UJ&utm_term=10006555&utm_id=NA-SkillsNetwork-Channel-SkillsNetworkCoursesIBMDeveloperSkillsNetworkDL0101ENSkillsNetwork945-2022-01-01\"><img src=\"https://cf-courses-data.s3.us.cloud-object-storage.appdomain.cloud/IBMDeveloperSkillsNetwork-DL0101EN-SkillsNetwork/images/IDSN-logo.png\" width=\"400\"> </a>\n",
    "\n",
    "<h1 align=center><font size = 5>Classification Models with Keras</font></h1>\n"
   ]
  },
  {
   "cell_type": "markdown",
   "id": "66b9ce33",
   "metadata": {
    "papermill": {
     "duration": 0.006033,
     "end_time": "2024-02-22T09:20:26.322624",
     "exception": false,
     "start_time": "2024-02-22T09:20:26.316591",
     "status": "completed"
    },
    "tags": []
   },
   "source": [
    "## Introduction\n"
   ]
  },
  {
   "cell_type": "markdown",
   "id": "b09e635c",
   "metadata": {
    "papermill": {
     "duration": 0.006003,
     "end_time": "2024-02-22T09:20:26.334782",
     "exception": false,
     "start_time": "2024-02-22T09:20:26.328779",
     "status": "completed"
    },
    "tags": []
   },
   "source": [
    "In this lab, we will learn how to use the Keras library to build models for classificaiton problems. We will use the popular MNIST dataset, a dataset of images, for a change. \n",
    "\n",
    "The <strong>MNIST database</strong>, short for Modified National Institute of Standards and Technology database, is a large database of handwritten digits that is commonly used for training various image processing systems. The database is also widely used for training and testing in the field of machine learning.\n",
    "    \n",
    "The MNIST database contains 60,000 training images and 10,000 testing images of digits written by high school students and employees of the United States Census Bureau.\n",
    "\n",
    "Also, this way, will get to compare how conventional neural networks compare to convolutional neural networks, that we will build in the next module.\n"
   ]
  },
  {
   "cell_type": "markdown",
   "id": "4f25c1a0",
   "metadata": {
    "papermill": {
     "duration": 0.006039,
     "end_time": "2024-02-22T09:20:26.346942",
     "exception": false,
     "start_time": "2024-02-22T09:20:26.340903",
     "status": "completed"
    },
    "tags": []
   },
   "source": [
    "<h2>Classification Models with Keras</h2>\n",
    "\n",
    "<h3>Objective for this Notebook<h3>    \n",
    "<h5> 1. Use of MNIST database for training various image processing systems</h5>\n",
    "<h5> 2. Build a Neural Network </h5>\n",
    "<h5> 3. Train and Test the Network. </h5>\n",
    "\n",
    "<p>This link will be used by your peers to assess your project. In your web app, your peers will be able to upload an image, which will then be classified using your custom classifier you connected to the web app. Your project will be graded by how accurately your app can classify <b>Fire</b>, <b>Smoke</b> and <b>Neutral (No Fire or Smoke)</b>.<p>\n"
   ]
  },
  {
   "cell_type": "markdown",
   "id": "87a8c239",
   "metadata": {
    "papermill": {
     "duration": 0.005993,
     "end_time": "2024-02-22T09:20:26.359013",
     "exception": false,
     "start_time": "2024-02-22T09:20:26.353020",
     "status": "completed"
    },
    "tags": []
   },
   "source": [
    "<a id='item312'></a>\n"
   ]
  },
  {
   "cell_type": "markdown",
   "id": "6880a056",
   "metadata": {
    "papermill": {
     "duration": 0.005988,
     "end_time": "2024-02-22T09:20:26.371155",
     "exception": false,
     "start_time": "2024-02-22T09:20:26.365167",
     "status": "completed"
    },
    "tags": []
   },
   "source": [
    "## Import Keras and Packages\n"
   ]
  },
  {
   "cell_type": "markdown",
   "id": "8a517662",
   "metadata": {
    "papermill": {
     "duration": 0.006052,
     "end_time": "2024-02-22T09:20:26.383272",
     "exception": false,
     "start_time": "2024-02-22T09:20:26.377220",
     "status": "completed"
    },
    "tags": []
   },
   "source": [
    "Let's start by importing Keras and some of its modules.\n"
   ]
  },
  {
   "cell_type": "code",
   "execution_count": 1,
   "id": "b1dc5e55",
   "metadata": {
    "execution": {
     "iopub.execute_input": "2024-02-22T09:20:26.398080Z",
     "iopub.status.busy": "2024-02-22T09:20:26.397517Z",
     "iopub.status.idle": "2024-02-22T09:20:26.401623Z",
     "shell.execute_reply": "2024-02-22T09:20:26.401026Z"
    },
    "papermill": {
     "duration": 0.013783,
     "end_time": "2024-02-22T09:20:26.403214",
     "exception": false,
     "start_time": "2024-02-22T09:20:26.389431",
     "status": "completed"
    },
    "tags": []
   },
   "outputs": [],
   "source": [
    "# All Libraries required for this lab are listed below. The libraries pre-installed on Skills Network Labs are commented. \n",
    "# If you run this notebook on a different environment, e.g. your desktop, you may need to uncomment and install certain libraries.\n",
    "\n",
    "#!pip install numpy==1.21.4\n",
    "#!pip install pandas==1.3.4\n",
    "#!pip install keras==2.1.6\n",
    "#!pip install matplotlib==3.5.0"
   ]
  },
  {
   "cell_type": "code",
   "execution_count": 2,
   "id": "6cf618a5",
   "metadata": {
    "execution": {
     "iopub.execute_input": "2024-02-22T09:20:26.416706Z",
     "iopub.status.busy": "2024-02-22T09:20:26.416260Z",
     "iopub.status.idle": "2024-02-22T09:20:37.051269Z",
     "shell.execute_reply": "2024-02-22T09:20:37.050430Z"
    },
    "papermill": {
     "duration": 10.644085,
     "end_time": "2024-02-22T09:20:37.053418",
     "exception": false,
     "start_time": "2024-02-22T09:20:26.409333",
     "status": "completed"
    },
    "tags": []
   },
   "outputs": [
    {
     "name": "stderr",
     "output_type": "stream",
     "text": [
      "2024-02-22 09:20:28.013675: E external/local_xla/xla/stream_executor/cuda/cuda_dnn.cc:9261] Unable to register cuDNN factory: Attempting to register factory for plugin cuDNN when one has already been registered\n",
      "2024-02-22 09:20:28.013785: E external/local_xla/xla/stream_executor/cuda/cuda_fft.cc:607] Unable to register cuFFT factory: Attempting to register factory for plugin cuFFT when one has already been registered\n",
      "2024-02-22 09:20:28.145477: E external/local_xla/xla/stream_executor/cuda/cuda_blas.cc:1515] Unable to register cuBLAS factory: Attempting to register factory for plugin cuBLAS when one has already been registered\n"
     ]
    }
   ],
   "source": [
    "import keras\n",
    "\n",
    "from keras.models import Sequential\n",
    "from keras.layers import Dense\n",
    "from keras.utils import to_categorical"
   ]
  },
  {
   "cell_type": "markdown",
   "id": "7bf42710",
   "metadata": {
    "papermill": {
     "duration": 0.006487,
     "end_time": "2024-02-22T09:20:37.066408",
     "exception": false,
     "start_time": "2024-02-22T09:20:37.059921",
     "status": "completed"
    },
    "tags": []
   },
   "source": [
    "Since we are dealing we images, let's also import the Matplotlib scripting layer in order to view the images.\n"
   ]
  },
  {
   "cell_type": "code",
   "execution_count": 3,
   "id": "80c79e9a",
   "metadata": {
    "execution": {
     "iopub.execute_input": "2024-02-22T09:20:37.080076Z",
     "iopub.status.busy": "2024-02-22T09:20:37.079612Z",
     "iopub.status.idle": "2024-02-22T09:20:37.082851Z",
     "shell.execute_reply": "2024-02-22T09:20:37.082296Z"
    },
    "papermill": {
     "duration": 0.011684,
     "end_time": "2024-02-22T09:20:37.084230",
     "exception": false,
     "start_time": "2024-02-22T09:20:37.072546",
     "status": "completed"
    },
    "tags": []
   },
   "outputs": [],
   "source": [
    "import matplotlib.pyplot as plt"
   ]
  },
  {
   "cell_type": "markdown",
   "id": "66baad4e",
   "metadata": {
    "papermill": {
     "duration": 0.005904,
     "end_time": "2024-02-22T09:20:37.096470",
     "exception": false,
     "start_time": "2024-02-22T09:20:37.090566",
     "status": "completed"
    },
    "tags": []
   },
   "source": [
    "The Keras library conveniently includes the MNIST dataset as part of its API. You can check other datasets within the Keras library [here](https://keras.io/datasets/?utm_medium=Exinfluencer&utm_source=Exinfluencer&utm_content=000026UJ&utm_term=10006555&utm_id=NA-SkillsNetwork-Channel-SkillsNetworkCoursesIBMDeveloperSkillsNetworkDL0101ENSkillsNetwork945-2022-01-01). \n",
    "\n",
    "So, let's load the MNIST dataset from the Keras library. The dataset is readily divided into a training set and a test set.\n"
   ]
  },
  {
   "cell_type": "code",
   "execution_count": 4,
   "id": "1ee5f146",
   "metadata": {
    "execution": {
     "iopub.execute_input": "2024-02-22T09:20:37.109776Z",
     "iopub.status.busy": "2024-02-22T09:20:37.109388Z",
     "iopub.status.idle": "2024-02-22T09:20:37.446000Z",
     "shell.execute_reply": "2024-02-22T09:20:37.445183Z"
    },
    "papermill": {
     "duration": 0.345443,
     "end_time": "2024-02-22T09:20:37.447966",
     "exception": false,
     "start_time": "2024-02-22T09:20:37.102523",
     "status": "completed"
    },
    "tags": []
   },
   "outputs": [
    {
     "name": "stdout",
     "output_type": "stream",
     "text": [
      "Downloading data from https://storage.googleapis.com/tensorflow/tf-keras-datasets/mnist.npz\n",
      "11490434/11490434 [==============================] - 0s 0us/step\n"
     ]
    }
   ],
   "source": [
    "# import the data\n",
    "from keras.datasets import mnist\n",
    "\n",
    "# read the data\n",
    "# utilize tuple unpacking method\n",
    "(X_train, y_train), (X_test, y_test) = mnist.load_data()"
   ]
  },
  {
   "cell_type": "markdown",
   "id": "cdbae082",
   "metadata": {
    "papermill": {
     "duration": 0.006617,
     "end_time": "2024-02-22T09:20:37.461367",
     "exception": false,
     "start_time": "2024-02-22T09:20:37.454750",
     "status": "completed"
    },
    "tags": []
   },
   "source": [
    "Let's confirm the number of images in each set. According to the dataset's documentation, we should have 60000 images in X_train and 10000 images in the X_test.\n"
   ]
  },
  {
   "cell_type": "code",
   "execution_count": 5,
   "id": "88d9dc10",
   "metadata": {
    "execution": {
     "iopub.execute_input": "2024-02-22T09:20:37.476309Z",
     "iopub.status.busy": "2024-02-22T09:20:37.475990Z",
     "iopub.status.idle": "2024-02-22T09:20:37.482575Z",
     "shell.execute_reply": "2024-02-22T09:20:37.481829Z"
    },
    "papermill": {
     "duration": 0.016587,
     "end_time": "2024-02-22T09:20:37.484480",
     "exception": false,
     "start_time": "2024-02-22T09:20:37.467893",
     "status": "completed"
    },
    "tags": []
   },
   "outputs": [
    {
     "data": {
      "text/plain": [
       "(60000, 28, 28)"
      ]
     },
     "execution_count": 5,
     "metadata": {},
     "output_type": "execute_result"
    }
   ],
   "source": [
    "X_train.shape"
   ]
  },
  {
   "cell_type": "markdown",
   "id": "3583eee1",
   "metadata": {
    "papermill": {
     "duration": 0.006306,
     "end_time": "2024-02-22T09:20:37.497819",
     "exception": false,
     "start_time": "2024-02-22T09:20:37.491513",
     "status": "completed"
    },
    "tags": []
   },
   "source": [
    "The first number in the output tuple is the number of images, and the other two numbers are the size of the images in datset. So, each image is 28 pixels by 28 pixels.\n"
   ]
  },
  {
   "cell_type": "markdown",
   "id": "4968c41f",
   "metadata": {
    "papermill": {
     "duration": 0.006334,
     "end_time": "2024-02-22T09:20:37.510606",
     "exception": false,
     "start_time": "2024-02-22T09:20:37.504272",
     "status": "completed"
    },
    "tags": []
   },
   "source": [
    "Let's visualize the first image in the training set using Matplotlib's scripting layer.\n"
   ]
  },
  {
   "cell_type": "code",
   "execution_count": 6,
   "id": "b5ee3881",
   "metadata": {
    "execution": {
     "iopub.execute_input": "2024-02-22T09:20:37.524826Z",
     "iopub.status.busy": "2024-02-22T09:20:37.524218Z",
     "iopub.status.idle": "2024-02-22T09:20:37.693831Z",
     "shell.execute_reply": "2024-02-22T09:20:37.693001Z"
    },
    "papermill": {
     "duration": 0.178489,
     "end_time": "2024-02-22T09:20:37.695493",
     "exception": false,
     "start_time": "2024-02-22T09:20:37.517004",
     "status": "completed"
    },
    "tags": []
   },
   "outputs": [
    {
     "data": {
      "text/plain": [
       "<matplotlib.image.AxesImage at 0x7adcc5bac760>"
      ]
     },
     "execution_count": 6,
     "metadata": {},
     "output_type": "execute_result"
    },
    {
     "data": {
      "image/png": "[encoded data removed]",
      "text/plain": [
       "<Figure size 640x480 with 1 Axes>"
      ]
     },
     "metadata": {},
     "output_type": "display_data"
    }
   ],
   "source": [
    "plt.imshow(X_train[0])"
   ]
  },
  {
   "cell_type": "markdown",
   "id": "18eb1de8",
   "metadata": {
    "papermill": {
     "duration": 0.006596,
     "end_time": "2024-02-22T09:20:37.709166",
     "exception": false,
     "start_time": "2024-02-22T09:20:37.702570",
     "status": "completed"
    },
    "tags": []
   },
   "source": [
    "With conventional neural networks, we cannot feed in the image as input as is. So we need to flatten the images into one-dimensional vectors, each of size 1 x (28 x 28) = 1 x 784.\n"
   ]
  },
  {
   "cell_type": "code",
   "execution_count": 7,
   "id": "c1b2c9ad",
   "metadata": {
    "execution": {
     "iopub.execute_input": "2024-02-22T09:20:37.724180Z",
     "iopub.status.busy": "2024-02-22T09:20:37.723523Z",
     "iopub.status.idle": "2024-02-22T09:20:37.753510Z",
     "shell.execute_reply": "2024-02-22T09:20:37.752677Z"
    },
    "papermill": {
     "duration": 0.039709,
     "end_time": "2024-02-22T09:20:37.755667",
     "exception": false,
     "start_time": "2024-02-22T09:20:37.715958",
     "status": "completed"
    },
    "tags": []
   },
   "outputs": [],
   "source": [
    "# flatten images into one-dimensional vector\n",
    "\n",
    "num_pixels = X_train.shape[1] * X_train.shape[2] # find size of one-dimensional vector\n",
    "\n",
    "X_train = X_train.reshape(X_train.shape[0], num_pixels).astype('float32') # flatten training images\n",
    "X_test = X_test.reshape(X_test.shape[0], num_pixels).astype('float32') # flatten test images"
   ]
  },
  {
   "cell_type": "markdown",
   "id": "1c7f8ee6",
   "metadata": {
    "papermill": {
     "duration": 0.006469,
     "end_time": "2024-02-22T09:20:37.769832",
     "exception": false,
     "start_time": "2024-02-22T09:20:37.763363",
     "status": "completed"
    },
    "tags": []
   },
   "source": [
    "Since pixel values can range from 0 to 255, let's normalize the vectors to be between 0 and 1.\n"
   ]
  },
  {
   "cell_type": "code",
   "execution_count": 8,
   "id": "debf478b",
   "metadata": {
    "execution": {
     "iopub.execute_input": "2024-02-22T09:20:37.784655Z",
     "iopub.status.busy": "2024-02-22T09:20:37.784194Z",
     "iopub.status.idle": "2024-02-22T09:20:37.816828Z",
     "shell.execute_reply": "2024-02-22T09:20:37.816199Z"
    },
    "papermill": {
     "duration": 0.042111,
     "end_time": "2024-02-22T09:20:37.818730",
     "exception": false,
     "start_time": "2024-02-22T09:20:37.776619",
     "status": "completed"
    },
    "tags": []
   },
   "outputs": [],
   "source": [
    "# normalize inputs from 0-255 to 0-1\n",
    "X_train = X_train / 255\n",
    "X_test = X_test / 255"
   ]
  },
  {
   "cell_type": "markdown",
   "id": "9bc48e19",
   "metadata": {
    "papermill": {
     "duration": 0.006536,
     "end_time": "2024-02-22T09:20:37.832370",
     "exception": false,
     "start_time": "2024-02-22T09:20:37.825834",
     "status": "completed"
    },
    "tags": []
   },
   "source": [
    "Finally, before we start building our model, remember that for classification we need to divide our target variable into categories. We use the to_categorical function from the Keras Utilities package.\n"
   ]
  },
  {
   "cell_type": "code",
   "execution_count": 9,
   "id": "6fbb578d",
   "metadata": {
    "execution": {
     "iopub.execute_input": "2024-02-22T09:20:37.847155Z",
     "iopub.status.busy": "2024-02-22T09:20:37.846669Z",
     "iopub.status.idle": "2024-02-22T09:20:37.852298Z",
     "shell.execute_reply": "2024-02-22T09:20:37.851515Z"
    },
    "papermill": {
     "duration": 0.014764,
     "end_time": "2024-02-22T09:20:37.853857",
     "exception": false,
     "start_time": "2024-02-22T09:20:37.839093",
     "status": "completed"
    },
    "tags": []
   },
   "outputs": [
    {
     "name": "stdout",
     "output_type": "stream",
     "text": [
      "10\n"
     ]
    }
   ],
   "source": [
    "# one hot encode outputs\n",
    "y_train = to_categorical(y_train)\n",
    "y_test = to_categorical(y_test)\n",
    "\n",
    "num_classes = y_test.shape[1]\n",
    "print(num_classes)"
   ]
  },
  {
   "cell_type": "markdown",
   "id": "4a7b4f50",
   "metadata": {
    "papermill": {
     "duration": 0.006595,
     "end_time": "2024-02-22T09:20:37.867282",
     "exception": false,
     "start_time": "2024-02-22T09:20:37.860687",
     "status": "completed"
    },
    "tags": []
   },
   "source": [
    "<a id='item322'></a>\n"
   ]
  },
  {
   "cell_type": "markdown",
   "id": "a59f4a26",
   "metadata": {
    "papermill": {
     "duration": 0.006543,
     "end_time": "2024-02-22T09:20:37.880586",
     "exception": false,
     "start_time": "2024-02-22T09:20:37.874043",
     "status": "completed"
    },
    "tags": []
   },
   "source": [
    "## Build a Neural Network\n"
   ]
  },
  {
   "cell_type": "code",
   "execution_count": 10,
   "id": "3d29148d",
   "metadata": {
    "execution": {
     "iopub.execute_input": "2024-02-22T09:20:37.895390Z",
     "iopub.status.busy": "2024-02-22T09:20:37.894928Z",
     "iopub.status.idle": "2024-02-22T09:20:37.900184Z",
     "shell.execute_reply": "2024-02-22T09:20:37.898967Z"
    },
    "papermill": {
     "duration": 0.014428,
     "end_time": "2024-02-22T09:20:37.901790",
     "exception": false,
     "start_time": "2024-02-22T09:20:37.887362",
     "status": "completed"
    },
    "tags": []
   },
   "outputs": [],
   "source": [
    "# define classification model\n",
    "def classification_model():\n",
    "    # create model\n",
    "    model = Sequential()\n",
    "    model.add(Dense(num_pixels, activation='relu', input_shape=(num_pixels,)))\n",
    "    model.add(Dense(100, activation='relu'))\n",
    "    model.add(Dense(num_classes, activation='softmax'))\n",
    "    \n",
    "    \n",
    "    # compile model\n",
    "    model.compile(optimizer='adam', loss='categorical_crossentropy', metrics=['accuracy'])\n",
    "    return model"
   ]
  },
  {
   "cell_type": "markdown",
   "id": "01605b84",
   "metadata": {
    "papermill": {
     "duration": 0.006715,
     "end_time": "2024-02-22T09:20:37.915313",
     "exception": false,
     "start_time": "2024-02-22T09:20:37.908598",
     "status": "completed"
    },
    "tags": []
   },
   "source": [
    "<a id='item332'></a>\n"
   ]
  },
  {
   "cell_type": "markdown",
   "id": "b12a996c",
   "metadata": {
    "papermill": {
     "duration": 0.006643,
     "end_time": "2024-02-22T09:20:37.928795",
     "exception": false,
     "start_time": "2024-02-22T09:20:37.922152",
     "status": "completed"
    },
    "tags": []
   },
   "source": [
    "## Train and Test the Network\n"
   ]
  },
  {
   "cell_type": "code",
   "execution_count": 11,
   "id": "2cbd898f",
   "metadata": {
    "execution": {
     "iopub.execute_input": "2024-02-22T09:20:37.943494Z",
     "iopub.status.busy": "2024-02-22T09:20:37.943270Z",
     "iopub.status.idle": "2024-02-22T09:21:48.304199Z",
     "shell.execute_reply": "2024-02-22T09:21:48.303480Z"
    },
    "papermill": {
     "duration": 70.370432,
     "end_time": "2024-02-22T09:21:48.306106",
     "exception": false,
     "start_time": "2024-02-22T09:20:37.935674",
     "status": "completed"
    },
    "tags": []
   },
   "outputs": [
    {
     "name": "stdout",
     "output_type": "stream",
     "text": [
      "Epoch 1/10\n",
      "1875/1875 - 7s - loss: 0.1872 - accuracy: 0.9433 - val_loss: 0.1126 - val_accuracy: 0.9669 - 7s/epoch - 4ms/step\n",
      "Epoch 2/10\n",
      "1875/1875 - 7s - loss: 0.0784 - accuracy: 0.9761 - val_loss: 0.0908 - val_accuracy: 0.9715 - 7s/epoch - 4ms/step\n",
      "Epoch 3/10\n",
      "1875/1875 - 7s - loss: 0.0529 - accuracy: 0.9833 - val_loss: 0.0749 - val_accuracy: 0.9782 - 7s/epoch - 4ms/step\n",
      "Epoch 4/10\n",
      "1875/1875 - 7s - loss: 0.0403 - accuracy: 0.9864 - val_loss: 0.0838 - val_accuracy: 0.9767 - 7s/epoch - 4ms/step\n",
      "Epoch 5/10\n",
      "1875/1875 - 7s - loss: 0.0323 - accuracy: 0.9895 - val_loss: 0.0730 - val_accuracy: 0.9808 - 7s/epoch - 3ms/step\n",
      "Epoch 6/10\n",
      "1875/1875 - 7s - loss: 0.0260 - accuracy: 0.9915 - val_loss: 0.0842 - val_accuracy: 0.9768 - 7s/epoch - 4ms/step\n",
      "Epoch 7/10\n",
      "1875/1875 - 7s - loss: 0.0211 - accuracy: 0.9926 - val_loss: 0.0895 - val_accuracy: 0.9787 - 7s/epoch - 4ms/step\n",
      "Epoch 8/10\n",
      "1875/1875 - 7s - loss: 0.0209 - accuracy: 0.9932 - val_loss: 0.0886 - val_accuracy: 0.9795 - 7s/epoch - 4ms/step\n",
      "Epoch 9/10\n",
      "1875/1875 - 7s - loss: 0.0190 - accuracy: 0.9941 - val_loss: 0.0918 - val_accuracy: 0.9803 - 7s/epoch - 4ms/step\n",
      "Epoch 10/10\n",
      "1875/1875 - 7s - loss: 0.0149 - accuracy: 0.9950 - val_loss: 0.0940 - val_accuracy: 0.9799 - 7s/epoch - 4ms/step\n"
     ]
    }
   ],
   "source": [
    "# build the model\n",
    "model = classification_model()\n",
    "\n",
    "# fit the model\n",
    "model.fit(X_train, y_train, validation_data=(X_test, y_test), epochs=10, verbose=2)\n",
    "\n",
    "# evaluate the model\n",
    "scores = model.evaluate(X_test, y_test, verbose=0)"
   ]
  },
  {
   "cell_type": "markdown",
   "id": "fdbab817",
   "metadata": {
    "papermill": {
     "duration": 0.007955,
     "end_time": "2024-02-22T09:21:48.322433",
     "exception": false,
     "start_time": "2024-02-22T09:21:48.314478",
     "status": "completed"
    },
    "tags": []
   },
   "source": [
    "Let's print the accuracy and the corresponding error.\n"
   ]
  },
  {
   "cell_type": "code",
   "execution_count": 12,
   "id": "3cf25f68",
   "metadata": {
    "execution": {
     "iopub.execute_input": "2024-02-22T09:21:48.339729Z",
     "iopub.status.busy": "2024-02-22T09:21:48.339423Z",
     "iopub.status.idle": "2024-02-22T09:21:48.343517Z",
     "shell.execute_reply": "2024-02-22T09:21:48.342748Z"
    },
    "papermill": {
     "duration": 0.01554,
     "end_time": "2024-02-22T09:21:48.345965",
     "exception": false,
     "start_time": "2024-02-22T09:21:48.330425",
     "status": "completed"
    },
    "tags": []
   },
   "outputs": [
    {
     "name": "stdout",
     "output_type": "stream",
     "text": [
      "Accuracy: 0.9799000024795532% \n",
      " Error: 0.020099997520446777\n"
     ]
    }
   ],
   "source": [
    "print('Accuracy: {}% \\n Error: {}'.format(scores[1], 1 - scores[1]))        "
   ]
  },
  {
   "cell_type": "markdown",
   "id": "35ccc47c",
   "metadata": {
    "papermill": {
     "duration": 0.008007,
     "end_time": "2024-02-22T09:21:48.361899",
     "exception": false,
     "start_time": "2024-02-22T09:21:48.353892",
     "status": "completed"
    },
    "tags": []
   },
   "source": [
    "Just running 10 epochs could actually take over 20 minutes. But enjoy the results as they are getting generated.\n"
   ]
  },
  {
   "cell_type": "markdown",
   "id": "a9781eb6",
   "metadata": {
    "papermill": {
     "duration": 0.007914,
     "end_time": "2024-02-22T09:21:48.377756",
     "exception": false,
     "start_time": "2024-02-22T09:21:48.369842",
     "status": "completed"
    },
    "tags": []
   },
   "source": [
    "Sometimes, you cannot afford to retrain your model everytime you want to use it, especially if you are limited on computational resources and training your model can take a long time. Therefore, with the Keras library, you can save your model after training. To do that, we use the save method.\n"
   ]
  },
  {
   "cell_type": "code",
   "execution_count": 13,
   "id": "27770410",
   "metadata": {
    "execution": {
     "iopub.execute_input": "2024-02-22T09:21:48.395111Z",
     "iopub.status.busy": "2024-02-22T09:21:48.394827Z",
     "iopub.status.idle": "2024-02-22T09:21:48.422911Z",
     "shell.execute_reply": "2024-02-22T09:21:48.422331Z"
    },
    "papermill": {
     "duration": 0.038688,
     "end_time": "2024-02-22T09:21:48.424418",
     "exception": false,
     "start_time": "2024-02-22T09:21:48.385730",
     "status": "completed"
    },
    "tags": []
   },
   "outputs": [
    {
     "name": "stderr",
     "output_type": "stream",
     "text": [
      "/opt/conda/lib/python3.10/site-packages/keras/src/engine/training.py:3103: UserWarning: You are saving your model as an HDF5 file via `model.save()`. This file format is considered legacy. We recommend using instead the native Keras format, e.g. `model.save('my_model.keras')`.\n",
      "  saving_api.save_model(\n"
     ]
    }
   ],
   "source": [
    "model.save('classification_model.h5')"
   ]
  },
  {
   "cell_type": "markdown",
   "id": "006fe765",
   "metadata": {
    "papermill": {
     "duration": 0.007921,
     "end_time": "2024-02-22T09:21:48.440666",
     "exception": false,
     "start_time": "2024-02-22T09:21:48.432745",
     "status": "completed"
    },
    "tags": []
   },
   "source": [
    "Since our model contains multidimensional arrays of data, then models are usually saved as .h5 files.\n"
   ]
  },
  {
   "cell_type": "markdown",
   "id": "7f0ddc16",
   "metadata": {
    "papermill": {
     "duration": 0.007859,
     "end_time": "2024-02-22T09:21:48.456540",
     "exception": false,
     "start_time": "2024-02-22T09:21:48.448681",
     "status": "completed"
    },
    "tags": []
   },
   "source": [
    "When you are ready to use your model again, you use the load_model function from <strong>keras.models</strong>.\n"
   ]
  },
  {
   "cell_type": "code",
   "execution_count": 14,
   "id": "579052eb",
   "metadata": {
    "execution": {
     "iopub.execute_input": "2024-02-22T09:21:48.474252Z",
     "iopub.status.busy": "2024-02-22T09:21:48.473506Z",
     "iopub.status.idle": "2024-02-22T09:21:48.476872Z",
     "shell.execute_reply": "2024-02-22T09:21:48.476339Z"
    },
    "papermill": {
     "duration": 0.013835,
     "end_time": "2024-02-22T09:21:48.478326",
     "exception": false,
     "start_time": "2024-02-22T09:21:48.464491",
     "status": "completed"
    },
    "tags": []
   },
   "outputs": [],
   "source": [
    "from keras.models import load_model"
   ]
  },
  {
   "cell_type": "code",
   "execution_count": 15,
   "id": "42cd9bbe",
   "metadata": {
    "execution": {
     "iopub.execute_input": "2024-02-22T09:21:48.496304Z",
     "iopub.status.busy": "2024-02-22T09:21:48.495673Z",
     "iopub.status.idle": "2024-02-22T09:21:48.573487Z",
     "shell.execute_reply": "2024-02-22T09:21:48.572675Z"
    },
    "papermill": {
     "duration": 0.0889,
     "end_time": "2024-02-22T09:21:48.575409",
     "exception": false,
     "start_time": "2024-02-22T09:21:48.486509",
     "status": "completed"
    },
    "tags": []
   },
   "outputs": [],
   "source": [
    "pretrained_model = load_model('classification_model.h5')"
   ]
  },
  {
   "cell_type": "markdown",
   "id": "bec969b3",
   "metadata": {
    "papermill": {
     "duration": 0.007976,
     "end_time": "2024-02-22T09:21:48.591975",
     "exception": false,
     "start_time": "2024-02-22T09:21:48.583999",
     "status": "completed"
    },
    "tags": []
   },
   "source": [
    "This notebook is part of a course on **Coursera** called *Introduction to Deep Learning & Neural Networks with Keras*. If you accessed this notebook outside the course, you can take this course online by clicking [here](https://cocl.us/DL0101EN_Coursera_Week3_LAB2).\n"
   ]
  }
 ],
 "metadata": {
  "kaggle": {
   "accelerator": "none",
   "dataSources": [],
   "dockerImageVersionId": 30646,
   "isGpuEnabled": false,
   "isInternetEnabled": true,
   "language": "python",
   "sourceType": "notebook"
  },
  "kernelspec": {
   "display_name": "Python 3",
   "language": "python",
   "name": "python3"
  },
  "language_info": {
   "codemirror_mode": {
    "name": "ipython",
    "version": 3
   },
   "file_extension": ".py",
   "mimetype": "text/x-python",
   "name": "python",
   "nbconvert_exporter": "python",
   "pygments_lexer": "ipython3",
   "version": "3.10.13"
  },
  "papermill": {
   "default_parameters": {},
   "duration": 85.380431,
   "end_time": "2024-02-22T09:21:49.719534",
   "environment_variables": {},
   "exception": null,
   "input_path": "__notebook__.ipynb",
   "output_path": "__notebook__.ipynb",
   "parameters": {},
   "start_time": "2024-02-22T09:20:24.339103",
   "version": "2.5.0"
  }
 },
 "nbformat": 4,
 "nbformat_minor": 5
}
