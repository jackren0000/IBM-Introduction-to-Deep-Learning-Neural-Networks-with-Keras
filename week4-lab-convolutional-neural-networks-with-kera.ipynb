{
 "cells": [
  {
   "cell_type": "markdown",
   "id": "6de4d110",
   "metadata": {
    "papermill": {
     "duration": 0.006125,
     "end_time": "2024-02-22T14:13:19.306886",
     "exception": false,
     "start_time": "2024-02-22T14:13:19.300761",
     "status": "completed"
    },
    "tags": []
   },
   "source": [
    "<a href=\"https://cognitiveclass.ai/?utm_medium=Exinfluencer&utm_source=Exinfluencer&utm_content=000026UJ&utm_term=10006555&utm_id=NA-SkillsNetwork-Channel-SkillsNetworkCoursesIBMDeveloperSkillsNetworkDL0101ENSkillsNetwork945-2022-01-01\"><img src=\"https://cf-courses-data.s3.us.cloud-object-storage.appdomain.cloud/IBMDeveloperSkillsNetwork-DL0101EN-SkillsNetwork/images/IDSN-logo.png\" width=\"400\"> </a>\n",
    "\n",
    "<h1 align=center><font size = 5>Convolutional Neural Networks with Keras</font></h1>\n"
   ]
  },
  {
   "cell_type": "markdown",
   "id": "5b58c691",
   "metadata": {
    "papermill": {
     "duration": 0.005249,
     "end_time": "2024-02-22T14:13:19.318248",
     "exception": false,
     "start_time": "2024-02-22T14:13:19.312999",
     "status": "completed"
    },
    "tags": []
   },
   "source": [
    "In this lab, we will learn how to use the Keras library to build convolutional neural networks. We will also use the popular MNIST dataset and we will compare our results to using a conventional neural network.\n"
   ]
  },
  {
   "cell_type": "markdown",
   "id": "992af7e3",
   "metadata": {
    "papermill": {
     "duration": 0.005091,
     "end_time": "2024-02-22T14:13:19.328950",
     "exception": false,
     "start_time": "2024-02-22T14:13:19.323859",
     "status": "completed"
    },
    "tags": []
   },
   "source": [
    "<h2>Convolutional Neural Networks with Keras</h2>\n",
    "\n",
    "<h3>Objective for this Notebook<h3>    \n",
    "<h5> 1. How to use the Keras library to build convolutional neural networks.</h5>\n",
    "<h5> 2. Convolutional Neural Network with One Convolutional and Pooling Layers.</h5>\n",
    "<h5> 3. Convolutional Neural Network with Two Convolutional and Pooling Layers.</h5>\n",
    "\n"
   ]
  },
  {
   "cell_type": "markdown",
   "id": "9065a9b9",
   "metadata": {
    "papermill": {
     "duration": 0.00504,
     "end_time": "2024-02-22T14:13:19.339402",
     "exception": false,
     "start_time": "2024-02-22T14:13:19.334362",
     "status": "completed"
    },
    "tags": []
   },
   "source": [
    "<a id='item41'></a>\n"
   ]
  },
  {
   "cell_type": "markdown",
   "id": "4ee550c1",
   "metadata": {
    "papermill": {
     "duration": 0.005097,
     "end_time": "2024-02-22T14:13:19.349838",
     "exception": false,
     "start_time": "2024-02-22T14:13:19.344741",
     "status": "completed"
    },
    "tags": []
   },
   "source": [
    "## Import Keras and Packages\n"
   ]
  },
  {
   "cell_type": "markdown",
   "id": "c36af0fd",
   "metadata": {
    "papermill": {
     "duration": 0.004954,
     "end_time": "2024-02-22T14:13:19.360053",
     "exception": false,
     "start_time": "2024-02-22T14:13:19.355099",
     "status": "completed"
    },
    "tags": []
   },
   "source": [
    "Let's start by importing the keras libraries and the packages that we would need to build a neural network.\n"
   ]
  },
  {
   "cell_type": "code",
   "execution_count": 1,
   "id": "0c4a2d01",
   "metadata": {
    "execution": {
     "iopub.execute_input": "2024-02-22T14:13:19.372724Z",
     "iopub.status.busy": "2024-02-22T14:13:19.372312Z",
     "iopub.status.idle": "2024-02-22T14:13:19.377179Z",
     "shell.execute_reply": "2024-02-22T14:13:19.376460Z"
    },
    "papermill": {
     "duration": 0.013843,
     "end_time": "2024-02-22T14:13:19.379197",
     "exception": false,
     "start_time": "2024-02-22T14:13:19.365354",
     "status": "completed"
    },
    "tags": []
   },
   "outputs": [],
   "source": [
    "# All Libraries required for this lab are listed below. The libraries pre-installed on Skills Network Labs are commented. \n",
    "# If you run this notebook on a different environment, e.g. your desktop, you may need to uncomment and install certain libraries.\n",
    "\n",
    "#!pip install numpy==1.21.4\n",
    "#!pip install pandas==1.3.4\n",
    "#!pip install keras==2.1.6"
   ]
  },
  {
   "cell_type": "code",
   "execution_count": 2,
   "id": "bf609daa",
   "metadata": {
    "execution": {
     "iopub.execute_input": "2024-02-22T14:13:19.392128Z",
     "iopub.status.busy": "2024-02-22T14:13:19.391446Z",
     "iopub.status.idle": "2024-02-22T14:13:33.186906Z",
     "shell.execute_reply": "2024-02-22T14:13:33.185813Z"
    },
    "papermill": {
     "duration": 13.805259,
     "end_time": "2024-02-22T14:13:33.189921",
     "exception": false,
     "start_time": "2024-02-22T14:13:19.384662",
     "status": "completed"
    },
    "tags": []
   },
   "outputs": [
    {
     "name": "stderr",
     "output_type": "stream",
     "text": [
      "2024-02-22 14:13:21.273728: E external/local_xla/xla/stream_executor/cuda/cuda_dnn.cc:9261] Unable to register cuDNN factory: Attempting to register factory for plugin cuDNN when one has already been registered\n",
      "2024-02-22 14:13:21.273866: E external/local_xla/xla/stream_executor/cuda/cuda_fft.cc:607] Unable to register cuFFT factory: Attempting to register factory for plugin cuFFT when one has already been registered\n",
      "2024-02-22 14:13:21.409210: E external/local_xla/xla/stream_executor/cuda/cuda_blas.cc:1515] Unable to register cuBLAS factory: Attempting to register factory for plugin cuBLAS when one has already been registered\n"
     ]
    }
   ],
   "source": [
    "import keras\n",
    "from keras.models import Sequential\n",
    "from keras.layers import Dense\n",
    "from keras.utils import to_categorical"
   ]
  },
  {
   "cell_type": "markdown",
   "id": "99cb51c0",
   "metadata": {
    "papermill": {
     "duration": 0.005535,
     "end_time": "2024-02-22T14:13:33.201288",
     "exception": false,
     "start_time": "2024-02-22T14:13:33.195753",
     "status": "completed"
    },
    "tags": []
   },
   "source": [
    "When working with convolutional neural networks in particular, we will need additional packages.\n"
   ]
  },
  {
   "cell_type": "code",
   "execution_count": 3,
   "id": "52ae5e6a",
   "metadata": {
    "execution": {
     "iopub.execute_input": "2024-02-22T14:13:33.214482Z",
     "iopub.status.busy": "2024-02-22T14:13:33.213812Z",
     "iopub.status.idle": "2024-02-22T14:13:33.219035Z",
     "shell.execute_reply": "2024-02-22T14:13:33.217967Z"
    },
    "papermill": {
     "duration": 0.014192,
     "end_time": "2024-02-22T14:13:33.221097",
     "exception": false,
     "start_time": "2024-02-22T14:13:33.206905",
     "status": "completed"
    },
    "tags": []
   },
   "outputs": [],
   "source": [
    "from keras.layers import Conv2D # to add convolutional layers\n",
    "from keras.layers import MaxPooling2D # to add pooling layers\n",
    "from keras.layers import Flatten # to flatten data for fully connected layers"
   ]
  },
  {
   "cell_type": "markdown",
   "id": "5e93cd32",
   "metadata": {
    "papermill": {
     "duration": 0.005353,
     "end_time": "2024-02-22T14:13:33.233045",
     "exception": false,
     "start_time": "2024-02-22T14:13:33.227692",
     "status": "completed"
    },
    "tags": []
   },
   "source": [
    "<a id='item42'></a>\n"
   ]
  },
  {
   "cell_type": "markdown",
   "id": "c2ab13c2",
   "metadata": {
    "papermill": {
     "duration": 0.005274,
     "end_time": "2024-02-22T14:13:33.243855",
     "exception": false,
     "start_time": "2024-02-22T14:13:33.238581",
     "status": "completed"
    },
    "tags": []
   },
   "source": [
    "## Convolutional Layer with One set of convolutional and pooling layers\n"
   ]
  },
  {
   "cell_type": "code",
   "execution_count": 4,
   "id": "0d53b8bb",
   "metadata": {
    "execution": {
     "iopub.execute_input": "2024-02-22T14:13:33.256995Z",
     "iopub.status.busy": "2024-02-22T14:13:33.256317Z",
     "iopub.status.idle": "2024-02-22T14:13:33.909877Z",
     "shell.execute_reply": "2024-02-22T14:13:33.908457Z"
    },
    "papermill": {
     "duration": 0.663124,
     "end_time": "2024-02-22T14:13:33.912561",
     "exception": false,
     "start_time": "2024-02-22T14:13:33.249437",
     "status": "completed"
    },
    "tags": []
   },
   "outputs": [
    {
     "name": "stdout",
     "output_type": "stream",
     "text": [
      "Downloading data from https://storage.googleapis.com/tensorflow/tf-keras-datasets/mnist.npz\n",
      "11490434/11490434 [==============================] - 0s 0us/step\n"
     ]
    }
   ],
   "source": [
    "# import data\n",
    "from keras.datasets import mnist\n",
    "\n",
    "# load data\n",
    "(X_train, y_train), (X_test, y_test) = mnist.load_data()\n",
    "\n",
    "# reshape to be [samples][pixels][width][height]\n",
    "X_train = X_train.reshape(X_train.shape[0], 28, 28, 1).astype('float32')\n",
    "X_test = X_test.reshape(X_test.shape[0], 28, 28, 1).astype('float32')"
   ]
  },
  {
   "cell_type": "markdown",
   "id": "b6b010f8",
   "metadata": {
    "papermill": {
     "duration": 0.005541,
     "end_time": "2024-02-22T14:13:33.924018",
     "exception": false,
     "start_time": "2024-02-22T14:13:33.918477",
     "status": "completed"
    },
    "tags": []
   },
   "source": [
    "Let's normalize the pixel values to be between 0 and 1\n"
   ]
  },
  {
   "cell_type": "code",
   "execution_count": 5,
   "id": "5dcbee56",
   "metadata": {
    "execution": {
     "iopub.execute_input": "2024-02-22T14:13:33.937223Z",
     "iopub.status.busy": "2024-02-22T14:13:33.936818Z",
     "iopub.status.idle": "2024-02-22T14:13:34.025840Z",
     "shell.execute_reply": "2024-02-22T14:13:34.024552Z"
    },
    "papermill": {
     "duration": 0.098674,
     "end_time": "2024-02-22T14:13:34.028552",
     "exception": false,
     "start_time": "2024-02-22T14:13:33.929878",
     "status": "completed"
    },
    "tags": []
   },
   "outputs": [],
   "source": [
    "X_train = X_train / 255 # normalize training data\n",
    "X_test = X_test / 255 # normalize test data"
   ]
  },
  {
   "cell_type": "markdown",
   "id": "9ef18e75",
   "metadata": {
    "papermill": {
     "duration": 0.005695,
     "end_time": "2024-02-22T14:13:34.040288",
     "exception": false,
     "start_time": "2024-02-22T14:13:34.034593",
     "status": "completed"
    },
    "tags": []
   },
   "source": [
    "Next, let's convert the target variable into binary categories\n"
   ]
  },
  {
   "cell_type": "code",
   "execution_count": 6,
   "id": "e4520410",
   "metadata": {
    "execution": {
     "iopub.execute_input": "2024-02-22T14:13:34.054184Z",
     "iopub.status.busy": "2024-02-22T14:13:34.053572Z",
     "iopub.status.idle": "2024-02-22T14:13:34.060916Z",
     "shell.execute_reply": "2024-02-22T14:13:34.060138Z"
    },
    "papermill": {
     "duration": 0.016898,
     "end_time": "2024-02-22T14:13:34.063198",
     "exception": false,
     "start_time": "2024-02-22T14:13:34.046300",
     "status": "completed"
    },
    "tags": []
   },
   "outputs": [],
   "source": [
    "y_train = to_categorical(y_train)\n",
    "y_test = to_categorical(y_test)\n",
    "\n",
    "num_classes = y_test.shape[1] # number of categories"
   ]
  },
  {
   "cell_type": "markdown",
   "id": "f1383647",
   "metadata": {
    "papermill": {
     "duration": 0.006033,
     "end_time": "2024-02-22T14:13:34.075317",
     "exception": false,
     "start_time": "2024-02-22T14:13:34.069284",
     "status": "completed"
    },
    "tags": []
   },
   "source": [
    "Next, let's define a function that creates our model. Let's start with one set of convolutional and pooling layers.\n"
   ]
  },
  {
   "cell_type": "code",
   "execution_count": 7,
   "id": "eba0603b",
   "metadata": {
    "execution": {
     "iopub.execute_input": "2024-02-22T14:13:34.089880Z",
     "iopub.status.busy": "2024-02-22T14:13:34.088721Z",
     "iopub.status.idle": "2024-02-22T14:13:34.096443Z",
     "shell.execute_reply": "2024-02-22T14:13:34.095377Z"
    },
    "papermill": {
     "duration": 0.017139,
     "end_time": "2024-02-22T14:13:34.098753",
     "exception": false,
     "start_time": "2024-02-22T14:13:34.081614",
     "status": "completed"
    },
    "tags": []
   },
   "outputs": [],
   "source": [
    "def convolutional_model():\n",
    "    \n",
    "    # create model\n",
    "    # create a new sequential model, Sequential is a Keras model class for creating a linera\n",
    "    # stack of layers\n",
    "    model = Sequential()\n",
    "    # add a 2D convolutional layer to the model\n",
    "    model.add(Conv2D(16, (5, 5), strides=(1, 1), activation='relu', input_shape=(28, 28, 1)))\n",
    "    # add a max pooling layer which reduces the spatial dimensions of the input volume\n",
    "    model.add(MaxPooling2D(pool_size=(2, 2), strides=(2, 2)))\n",
    "    # flatten the 2D feature maps into a 1D vector\n",
    "    # because the next layer is a fully connected layer needs a 1D input\n",
    "    model.add(Flatten())\n",
    "    # add a fully connected layer with 100 neurons\n",
    "    model.add(Dense(100, activation='relu'))\n",
    "    # softmax activation is used to convert the outputs to probability-like values\n",
    "    model.add(Dense(num_classes, activation='softmax'))\n",
    "    \n",
    "    # compile model\n",
    "    model.compile(optimizer='adam', loss='categorical_crossentropy',  metrics=['accuracy'])\n",
    "    return model"
   ]
  },
  {
   "cell_type": "markdown",
   "id": "ca4a73cc",
   "metadata": {
    "papermill": {
     "duration": 0.005682,
     "end_time": "2024-02-22T14:13:34.110791",
     "exception": false,
     "start_time": "2024-02-22T14:13:34.105109",
     "status": "completed"
    },
    "tags": []
   },
   "source": [
    "Finally, let's call the function to create the model, and then let's train it and evaluate it.\n"
   ]
  },
  {
   "cell_type": "code",
   "execution_count": 8,
   "id": "e6b8b305",
   "metadata": {
    "execution": {
     "iopub.execute_input": "2024-02-22T14:13:34.124287Z",
     "iopub.status.busy": "2024-02-22T14:13:34.123903Z",
     "iopub.status.idle": "2024-02-22T14:15:03.176400Z",
     "shell.execute_reply": "2024-02-22T14:15:03.175369Z"
    },
    "papermill": {
     "duration": 89.062157,
     "end_time": "2024-02-22T14:15:03.178989",
     "exception": false,
     "start_time": "2024-02-22T14:13:34.116832",
     "status": "completed"
    },
    "tags": []
   },
   "outputs": [
    {
     "name": "stdout",
     "output_type": "stream",
     "text": [
      "Epoch 1/10\n",
      "300/300 - 10s - loss: 0.2738 - accuracy: 0.9268 - val_loss: 0.0850 - val_accuracy: 0.9747 - 10s/epoch - 32ms/step\n",
      "Epoch 2/10\n",
      "300/300 - 9s - loss: 0.0759 - accuracy: 0.9778 - val_loss: 0.0579 - val_accuracy: 0.9813 - 9s/epoch - 30ms/step\n",
      "Epoch 3/10\n",
      "300/300 - 9s - loss: 0.0523 - accuracy: 0.9843 - val_loss: 0.0458 - val_accuracy: 0.9855 - 9s/epoch - 28ms/step\n",
      "Epoch 4/10\n",
      "300/300 - 9s - loss: 0.0407 - accuracy: 0.9879 - val_loss: 0.0434 - val_accuracy: 0.9867 - 9s/epoch - 28ms/step\n",
      "Epoch 5/10\n",
      "300/300 - 8s - loss: 0.0348 - accuracy: 0.9897 - val_loss: 0.0446 - val_accuracy: 0.9858 - 8s/epoch - 28ms/step\n",
      "Epoch 6/10\n",
      "300/300 - 9s - loss: 0.0281 - accuracy: 0.9920 - val_loss: 0.0381 - val_accuracy: 0.9882 - 9s/epoch - 30ms/step\n",
      "Epoch 7/10\n",
      "300/300 - 8s - loss: 0.0235 - accuracy: 0.9930 - val_loss: 0.0425 - val_accuracy: 0.9868 - 8s/epoch - 28ms/step\n",
      "Epoch 8/10\n",
      "300/300 - 8s - loss: 0.0188 - accuracy: 0.9943 - val_loss: 0.0398 - val_accuracy: 0.9877 - 8s/epoch - 28ms/step\n",
      "Epoch 9/10\n",
      "300/300 - 9s - loss: 0.0166 - accuracy: 0.9951 - val_loss: 0.0365 - val_accuracy: 0.9878 - 9s/epoch - 29ms/step\n",
      "Epoch 10/10\n",
      "300/300 - 9s - loss: 0.0141 - accuracy: 0.9958 - val_loss: 0.0374 - val_accuracy: 0.9878 - 9s/epoch - 29ms/step\n",
      "Accuracy: 0.9878000020980835 \n",
      " Error: 1.2199997901916504\n"
     ]
    }
   ],
   "source": [
    "# build the model\n",
    "model = convolutional_model()\n",
    "\n",
    "# fit the model\n",
    "model.fit(X_train, y_train, validation_data=(X_test, y_test), epochs=10, batch_size=200, verbose=2)\n",
    "\n",
    "# evaluate the model\n",
    "scores = model.evaluate(X_test, y_test, verbose=0)\n",
    "print(\"Accuracy: {} \\n Error: {}\".format(scores[1], 100-scores[1]*100))"
   ]
  },
  {
   "cell_type": "markdown",
   "id": "ef215b1a",
   "metadata": {
    "papermill": {
     "duration": 0.007138,
     "end_time": "2024-02-22T14:15:03.193855",
     "exception": false,
     "start_time": "2024-02-22T14:15:03.186717",
     "status": "completed"
    },
    "tags": []
   },
   "source": [
    "------------------------------------------\n"
   ]
  },
  {
   "cell_type": "markdown",
   "id": "fd5bcaa2",
   "metadata": {
    "papermill": {
     "duration": 0.006956,
     "end_time": "2024-02-22T14:15:03.208066",
     "exception": false,
     "start_time": "2024-02-22T14:15:03.201110",
     "status": "completed"
    },
    "tags": []
   },
   "source": [
    "<a id='item43'></a>\n"
   ]
  },
  {
   "cell_type": "markdown",
   "id": "9b73b0a2",
   "metadata": {
    "papermill": {
     "duration": 0.006979,
     "end_time": "2024-02-22T14:15:03.222471",
     "exception": false,
     "start_time": "2024-02-22T14:15:03.215492",
     "status": "completed"
    },
    "tags": []
   },
   "source": [
    "## Convolutional Layer with two sets of convolutional and pooling layers\n"
   ]
  },
  {
   "cell_type": "markdown",
   "id": "174b6b8d",
   "metadata": {
    "papermill": {
     "duration": 0.006921,
     "end_time": "2024-02-22T14:15:03.236590",
     "exception": false,
     "start_time": "2024-02-22T14:15:03.229669",
     "status": "completed"
    },
    "tags": []
   },
   "source": [
    "Let's redefine our convolutional model so that it has two convolutional and pooling layers instead of just one layer of each.\n"
   ]
  },
  {
   "cell_type": "code",
   "execution_count": 9,
   "id": "276560ad",
   "metadata": {
    "execution": {
     "iopub.execute_input": "2024-02-22T14:15:03.253337Z",
     "iopub.status.busy": "2024-02-22T14:15:03.252406Z",
     "iopub.status.idle": "2024-02-22T14:15:03.259947Z",
     "shell.execute_reply": "2024-02-22T14:15:03.258937Z"
    },
    "papermill": {
     "duration": 0.018525,
     "end_time": "2024-02-22T14:15:03.262471",
     "exception": false,
     "start_time": "2024-02-22T14:15:03.243946",
     "status": "completed"
    },
    "tags": []
   },
   "outputs": [],
   "source": [
    "def convolutional_model():\n",
    "    \n",
    "    # create model\n",
    "    model = Sequential()\n",
    "    model.add(Conv2D(16, (5, 5), activation='relu', input_shape=(28, 28, 1)))\n",
    "    model.add(MaxPooling2D(pool_size=(2, 2), strides=(2, 2)))\n",
    "    \n",
    "    model.add(Conv2D(8, (2, 2), activation='relu'))\n",
    "    model.add(MaxPooling2D(pool_size=(2, 2), strides=(2, 2)))\n",
    "    \n",
    "    model.add(Flatten())\n",
    "    model.add(Dense(100, activation='relu'))\n",
    "    model.add(Dense(num_classes, activation='softmax'))\n",
    "    \n",
    "    # Compile model\n",
    "    model.compile(optimizer='adam', loss='categorical_crossentropy',  metrics=['accuracy'])\n",
    "    return model"
   ]
  },
  {
   "cell_type": "markdown",
   "id": "d55b0c49",
   "metadata": {
    "papermill": {
     "duration": 0.006939,
     "end_time": "2024-02-22T14:15:03.277054",
     "exception": false,
     "start_time": "2024-02-22T14:15:03.270115",
     "status": "completed"
    },
    "tags": []
   },
   "source": [
    "Now, let's call the function to create our new convolutional neural network, and then let's train it and evaluate it.\n"
   ]
  },
  {
   "cell_type": "code",
   "execution_count": 10,
   "id": "5f3a2225",
   "metadata": {
    "execution": {
     "iopub.execute_input": "2024-02-22T14:15:03.293440Z",
     "iopub.status.busy": "2024-02-22T14:15:03.293088Z",
     "iopub.status.idle": "2024-02-22T14:16:40.954378Z",
     "shell.execute_reply": "2024-02-22T14:16:40.953295Z"
    },
    "papermill": {
     "duration": 97.672156,
     "end_time": "2024-02-22T14:16:40.956629",
     "exception": false,
     "start_time": "2024-02-22T14:15:03.284473",
     "status": "completed"
    },
    "tags": []
   },
   "outputs": [
    {
     "name": "stdout",
     "output_type": "stream",
     "text": [
      "Epoch 1/10\n",
      "300/300 - 11s - loss: 0.4763 - accuracy: 0.8593 - val_loss: 0.1308 - val_accuracy: 0.9621 - 11s/epoch - 35ms/step\n",
      "Epoch 2/10\n",
      "300/300 - 9s - loss: 0.1146 - accuracy: 0.9658 - val_loss: 0.0781 - val_accuracy: 0.9757 - 9s/epoch - 31ms/step\n",
      "Epoch 3/10\n",
      "300/300 - 10s - loss: 0.0845 - accuracy: 0.9740 - val_loss: 0.0651 - val_accuracy: 0.9785 - 10s/epoch - 32ms/step\n",
      "Epoch 4/10\n",
      "300/300 - 9s - loss: 0.0695 - accuracy: 0.9789 - val_loss: 0.0638 - val_accuracy: 0.9786 - 9s/epoch - 31ms/step\n",
      "Epoch 5/10\n",
      "300/300 - 9s - loss: 0.0582 - accuracy: 0.9824 - val_loss: 0.0510 - val_accuracy: 0.9832 - 9s/epoch - 31ms/step\n",
      "Epoch 6/10\n",
      "300/300 - 10s - loss: 0.0529 - accuracy: 0.9841 - val_loss: 0.0502 - val_accuracy: 0.9833 - 10s/epoch - 33ms/step\n",
      "Epoch 7/10\n",
      "300/300 - 9s - loss: 0.0470 - accuracy: 0.9857 - val_loss: 0.0456 - val_accuracy: 0.9858 - 9s/epoch - 31ms/step\n",
      "Epoch 8/10\n",
      "300/300 - 9s - loss: 0.0427 - accuracy: 0.9869 - val_loss: 0.0431 - val_accuracy: 0.9865 - 9s/epoch - 31ms/step\n",
      "Epoch 9/10\n",
      "300/300 - 10s - loss: 0.0399 - accuracy: 0.9878 - val_loss: 0.0455 - val_accuracy: 0.9848 - 10s/epoch - 33ms/step\n",
      "Epoch 10/10\n",
      "300/300 - 9s - loss: 0.0359 - accuracy: 0.9890 - val_loss: 0.0453 - val_accuracy: 0.9849 - 9s/epoch - 31ms/step\n",
      "Accuracy: 0.9848999977111816 \n",
      " Error: 1.510000228881836\n"
     ]
    }
   ],
   "source": [
    "# build the model\n",
    "model = convolutional_model()\n",
    "\n",
    "# fit the model\n",
    "model.fit(X_train, y_train, validation_data=(X_test, y_test), epochs=10, batch_size=200, verbose=2)\n",
    "\n",
    "# evaluate the model\n",
    "scores = model.evaluate(X_test, y_test, verbose=0)\n",
    "print(\"Accuracy: {} \\n Error: {}\".format(scores[1], 100-scores[1]*100))"
   ]
  }
 ],
 "metadata": {
  "kaggle": {
   "accelerator": "none",
   "dataSources": [],
   "dockerImageVersionId": 30646,
   "isGpuEnabled": false,
   "isInternetEnabled": true,
   "language": "python",
   "sourceType": "notebook"
  },
  "kernelspec": {
   "display_name": "Python 3",
   "language": "python",
   "name": "python3"
  },
  "language_info": {
   "codemirror_mode": {
    "name": "ipython",
    "version": 3
   },
   "file_extension": ".py",
   "mimetype": "text/x-python",
   "name": "python",
   "nbconvert_exporter": "python",
   "pygments_lexer": "ipython3",
   "version": "3.10.13"
  },
  "papermill": {
   "default_parameters": {},
   "duration": 205.861777,
   "end_time": "2024-02-22T14:16:42.489649",
   "environment_variables": {},
   "exception": null,
   "input_path": "__notebook__.ipynb",
   "output_path": "__notebook__.ipynb",
   "parameters": {},
   "start_time": "2024-02-22T14:13:16.627872",
   "version": "2.5.0"
  }
 },
 "nbformat": 4,
 "nbformat_minor": 5
}
