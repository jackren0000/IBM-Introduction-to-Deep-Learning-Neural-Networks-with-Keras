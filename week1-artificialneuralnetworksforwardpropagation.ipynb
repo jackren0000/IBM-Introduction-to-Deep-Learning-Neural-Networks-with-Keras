{
 "cells": [
  {
   "cell_type": "markdown",
   "id": "460dc38e",
   "metadata": {
    "papermill": {
     "duration": 0.019974,
     "end_time": "2024-02-22T08:30:11.185279",
     "exception": false,
     "start_time": "2024-02-22T08:30:11.165305",
     "status": "completed"
    },
    "tags": []
   },
   "source": [
    "<a href=\"https://cognitiveclass.ai/?utm_medium=Exinfluencer&utm_source=Exinfluencer&utm_content=000026UJ&utm_term=10006555&utm_id=NA-SkillsNetwork-Channel-SkillsNetworkCoursesIBMDeveloperSkillsNetworkDL0101ENSkillsNetwork945-2022-01-01\"><img src=\"https://cf-courses-data.s3.us.cloud-object-storage.appdomain.cloud/IBMDeveloperSkillsNetwork-DL0101EN-SkillsNetwork/images/IDSN-logo.png\" width=\"400\"> </a>\n",
    "\n",
    "<h1 align=center><font size = 5>Artificial Neural Networks - Forward Propagation</font></h1>\n"
   ]
  },
  {
   "cell_type": "markdown",
   "id": "1b026b06",
   "metadata": {
    "papermill": {
     "duration": 0.018902,
     "end_time": "2024-02-22T08:30:11.223561",
     "exception": false,
     "start_time": "2024-02-22T08:30:11.204659",
     "status": "completed"
    },
    "tags": []
   },
   "source": [
    "## Introduction\n"
   ]
  },
  {
   "cell_type": "markdown",
   "id": "48833048",
   "metadata": {
    "papermill": {
     "duration": 0.018932,
     "end_time": "2024-02-22T08:30:11.261696",
     "exception": false,
     "start_time": "2024-02-22T08:30:11.242764",
     "status": "completed"
    },
    "tags": []
   },
   "source": [
    "In this lab, we will build a neural network from scratch and code how it performs predictions using forward propagation. Please note that all deep learning libraries have the entire training and prediction processes implemented, and so in practice you wouldn't really need to build a neural network from scratch. However, hopefully completing this lab will help you understand neural networks and how they work even better.\n"
   ]
  },
  {
   "cell_type": "markdown",
   "id": "63e5f5f1",
   "metadata": {
    "papermill": {
     "duration": 0.019429,
     "end_time": "2024-02-22T08:30:11.301536",
     "exception": false,
     "start_time": "2024-02-22T08:30:11.282107",
     "status": "completed"
    },
    "tags": []
   },
   "source": [
    "<h2>Artificial Neural Networks - Forward Propagation</h2>\n",
    "\n",
    "<h3>Objective for this Notebook<h3>    \n",
    "<h5> 1. Initalize a Network</h5>\n",
    "<h5> 2. Compute Weighted Sum at Each Node. </h5>\n",
    "<h5> 3. Compute Node Activation </h5>\n",
    "<h5> 4. Access your <b>Flask</b> app via a webpage anywhere using a custom link. </h5>     \n",
    "\n"
   ]
  },
  {
   "cell_type": "markdown",
   "id": "ac81c3a9",
   "metadata": {
    "papermill": {
     "duration": 0.019488,
     "end_time": "2024-02-22T08:30:11.340919",
     "exception": false,
     "start_time": "2024-02-22T08:30:11.321431",
     "status": "completed"
    },
    "tags": []
   },
   "source": [
    "# Recap\n"
   ]
  },
  {
   "cell_type": "markdown",
   "id": "3dac6d54",
   "metadata": {
    "papermill": {
     "duration": 0.019267,
     "end_time": "2024-02-22T08:30:11.379464",
     "exception": false,
     "start_time": "2024-02-22T08:30:11.360197",
     "status": "completed"
    },
    "tags": []
   },
   "source": [
    "From the videos, let's recap how a neural network makes predictions through the forward propagation process. Here is a neural network that takes two inputs, has one hidden layer with two nodes, and an output layer with one node.\n"
   ]
  },
  {
   "cell_type": "markdown",
   "id": "fb3be2d0",
   "metadata": {
    "papermill": {
     "duration": 0.019264,
     "end_time": "2024-02-22T08:30:11.418029",
     "exception": false,
     "start_time": "2024-02-22T08:30:11.398765",
     "status": "completed"
    },
    "tags": []
   },
   "source": [
    "   \n"
   ]
  },
  {
   "cell_type": "markdown",
   "id": "135135e6",
   "metadata": {
    "papermill": {
     "duration": 0.01886,
     "end_time": "2024-02-22T08:30:11.456075",
     "exception": false,
     "start_time": "2024-02-22T08:30:11.437215",
     "status": "completed"
    },
    "tags": []
   },
   "source": [
    "<img src=\"http://cocl.us/neural_network_example\" alt=\"Neural Network Example\" width=\"600px\">\n"
   ]
  },
  {
   "cell_type": "markdown",
   "id": "3cda6ae5",
   "metadata": {
    "papermill": {
     "duration": 0.018625,
     "end_time": "2024-02-22T08:30:11.493832",
     "exception": false,
     "start_time": "2024-02-22T08:30:11.475207",
     "status": "completed"
    },
    "tags": []
   },
   "source": [
    "  \n"
   ]
  },
  {
   "cell_type": "markdown",
   "id": "e1f18676",
   "metadata": {
    "papermill": {
     "duration": 0.019242,
     "end_time": "2024-02-22T08:30:11.532154",
     "exception": false,
     "start_time": "2024-02-22T08:30:11.512912",
     "status": "completed"
    },
    "tags": []
   },
   "source": [
    "Let's start by randomly initializing the weights and the biases in the network. We have 6 weights and 3 biases, one for each node in the hidden layer as well as for each node in the output layer.\n"
   ]
  },
  {
   "cell_type": "code",
   "execution_count": 1,
   "id": "09d1a4a6",
   "metadata": {
    "execution": {
     "iopub.execute_input": "2024-02-22T08:30:11.572358Z",
     "iopub.status.busy": "2024-02-22T08:30:11.571829Z",
     "iopub.status.idle": "2024-02-22T08:30:11.578220Z",
     "shell.execute_reply": "2024-02-22T08:30:11.576958Z"
    },
    "papermill": {
     "duration": 0.029461,
     "end_time": "2024-02-22T08:30:11.580641",
     "exception": false,
     "start_time": "2024-02-22T08:30:11.551180",
     "status": "completed"
    },
    "tags": []
   },
   "outputs": [],
   "source": [
    "# All Libraries required for this lab are listed below. The libraries pre-installed on Skills Network Labs are commented. \n",
    "# If you run this notebook on a different environment, e.g. your desktop, you may need to uncomment and install certain libraries.\n",
    "\n",
    "#!pip install numpy==1.21.4"
   ]
  },
  {
   "cell_type": "code",
   "execution_count": 2,
   "id": "b35d82e0",
   "metadata": {
    "execution": {
     "iopub.execute_input": "2024-02-22T08:30:11.621327Z",
     "iopub.status.busy": "2024-02-22T08:30:11.620802Z",
     "iopub.status.idle": "2024-02-22T08:30:11.635351Z",
     "shell.execute_reply": "2024-02-22T08:30:11.634021Z"
    },
    "papermill": {
     "duration": 0.03823,
     "end_time": "2024-02-22T08:30:11.638119",
     "exception": false,
     "start_time": "2024-02-22T08:30:11.599889",
     "status": "completed"
    },
    "tags": []
   },
   "outputs": [],
   "source": [
    "import numpy as np # import Numpy library to generate \n",
    "\n",
    "# generate an array of six random numbers from a uniform distribution over \n",
    "# the interval [0, 1)\n",
    "weights = np.around(np.random.uniform(size=6), decimals=2) # initialize the weights\n",
    "biases = np.around(np.random.uniform(size=3), decimals=2) # initialize the biases"
   ]
  },
  {
   "cell_type": "markdown",
   "id": "c0c4a447",
   "metadata": {
    "papermill": {
     "duration": 0.019162,
     "end_time": "2024-02-22T08:30:11.676468",
     "exception": false,
     "start_time": "2024-02-22T08:30:11.657306",
     "status": "completed"
    },
    "tags": []
   },
   "source": [
    "Let's print the weights and biases for sanity check.\n"
   ]
  },
  {
   "cell_type": "code",
   "execution_count": 3,
   "id": "a01e6182",
   "metadata": {
    "execution": {
     "iopub.execute_input": "2024-02-22T08:30:11.717049Z",
     "iopub.status.busy": "2024-02-22T08:30:11.716536Z",
     "iopub.status.idle": "2024-02-22T08:30:11.725841Z",
     "shell.execute_reply": "2024-02-22T08:30:11.724157Z"
    },
    "papermill": {
     "duration": 0.033958,
     "end_time": "2024-02-22T08:30:11.729540",
     "exception": false,
     "start_time": "2024-02-22T08:30:11.695582",
     "status": "completed"
    },
    "tags": []
   },
   "outputs": [
    {
     "name": "stdout",
     "output_type": "stream",
     "text": [
      "[0.02 0.09 0.74 0.59 0.61 0.43]\n",
      "[0.61 0.99 0.1 ]\n"
     ]
    }
   ],
   "source": [
    "print(weights)\n",
    "print(biases)"
   ]
  },
  {
   "cell_type": "markdown",
   "id": "f5625d58",
   "metadata": {
    "papermill": {
     "duration": 0.019417,
     "end_time": "2024-02-22T08:30:11.768998",
     "exception": false,
     "start_time": "2024-02-22T08:30:11.749581",
     "status": "completed"
    },
    "tags": []
   },
   "source": [
    "Now that we have the weights and the biases defined for the network, let's compute the output for a given input, $x_1$ and $x_2$.\n"
   ]
  },
  {
   "cell_type": "code",
   "execution_count": 4,
   "id": "08977859",
   "metadata": {
    "execution": {
     "iopub.execute_input": "2024-02-22T08:30:11.811526Z",
     "iopub.status.busy": "2024-02-22T08:30:11.811102Z",
     "iopub.status.idle": "2024-02-22T08:30:11.817070Z",
     "shell.execute_reply": "2024-02-22T08:30:11.815879Z"
    },
    "papermill": {
     "duration": 0.031044,
     "end_time": "2024-02-22T08:30:11.819808",
     "exception": false,
     "start_time": "2024-02-22T08:30:11.788764",
     "status": "completed"
    },
    "tags": []
   },
   "outputs": [
    {
     "name": "stdout",
     "output_type": "stream",
     "text": [
      "x1 is 0.5 and x2 is 0.85\n"
     ]
    }
   ],
   "source": [
    "x_1 = 0.5 # input 1\n",
    "x_2 = 0.85 # input 2\n",
    "\n",
    "print('x1 is {} and x2 is {}'.format(x_1, x_2))"
   ]
  },
  {
   "cell_type": "markdown",
   "id": "e1444645",
   "metadata": {
    "papermill": {
     "duration": 0.020813,
     "end_time": "2024-02-22T08:30:11.861424",
     "exception": false,
     "start_time": "2024-02-22T08:30:11.840611",
     "status": "completed"
    },
    "tags": []
   },
   "source": [
    "Let's start by computing the wighted sum of the inputs, $z_{1, 1}$, at the first node of the hidden layer.\n"
   ]
  },
  {
   "cell_type": "code",
   "execution_count": 5,
   "id": "15571b2c",
   "metadata": {
    "execution": {
     "iopub.execute_input": "2024-02-22T08:30:11.904208Z",
     "iopub.status.busy": "2024-02-22T08:30:11.903727Z",
     "iopub.status.idle": "2024-02-22T08:30:11.910404Z",
     "shell.execute_reply": "2024-02-22T08:30:11.909223Z"
    },
    "papermill": {
     "duration": 0.03183,
     "end_time": "2024-02-22T08:30:11.913717",
     "exception": false,
     "start_time": "2024-02-22T08:30:11.881887",
     "status": "completed"
    },
    "tags": []
   },
   "outputs": [
    {
     "name": "stdout",
     "output_type": "stream",
     "text": [
      "The weighted sum of the inputs at the first node in the hidden layer is 0.6965\n"
     ]
    }
   ],
   "source": [
    "z_11 = x_1 * weights[0] + x_2 * weights[1] + biases[0]\n",
    "\n",
    "print('The weighted sum of the inputs at the first node in the hidden layer is {}'.format(z_11))"
   ]
  },
  {
   "cell_type": "markdown",
   "id": "ba51fd53",
   "metadata": {
    "papermill": {
     "duration": 0.02022,
     "end_time": "2024-02-22T08:30:11.953797",
     "exception": false,
     "start_time": "2024-02-22T08:30:11.933577",
     "status": "completed"
    },
    "tags": []
   },
   "source": [
    "Next, let's compute the weighted sum of the inputs, $z_{1, 2}$, at the second node of the hidden layer. Assign the value to **z_12**.\n"
   ]
  },
  {
   "cell_type": "code",
   "execution_count": 6,
   "id": "713441fa",
   "metadata": {
    "execution": {
     "iopub.execute_input": "2024-02-22T08:30:11.996080Z",
     "iopub.status.busy": "2024-02-22T08:30:11.995615Z",
     "iopub.status.idle": "2024-02-22T08:30:12.002414Z",
     "shell.execute_reply": "2024-02-22T08:30:12.000054Z"
    },
    "papermill": {
     "duration": 0.031968,
     "end_time": "2024-02-22T08:30:12.005552",
     "exception": false,
     "start_time": "2024-02-22T08:30:11.973584",
     "status": "completed"
    },
    "tags": []
   },
   "outputs": [],
   "source": [
    "z_12 = x_1 * weights[2] + x_2 * weights[3] + biases[1]"
   ]
  },
  {
   "cell_type": "markdown",
   "id": "1e446b97",
   "metadata": {
    "papermill": {
     "duration": 0.020302,
     "end_time": "2024-02-22T08:30:12.046027",
     "exception": false,
     "start_time": "2024-02-22T08:30:12.025725",
     "status": "completed"
    },
    "tags": []
   },
   "source": [
    "Print the weighted sum.\n"
   ]
  },
  {
   "cell_type": "code",
   "execution_count": 7,
   "id": "4c9d8aa5",
   "metadata": {
    "execution": {
     "iopub.execute_input": "2024-02-22T08:30:12.178800Z",
     "iopub.status.busy": "2024-02-22T08:30:12.178344Z",
     "iopub.status.idle": "2024-02-22T08:30:12.185027Z",
     "shell.execute_reply": "2024-02-22T08:30:12.183616Z"
    },
    "papermill": {
     "duration": 0.121736,
     "end_time": "2024-02-22T08:30:12.188218",
     "exception": false,
     "start_time": "2024-02-22T08:30:12.066482",
     "status": "completed"
    },
    "tags": []
   },
   "outputs": [
    {
     "name": "stdout",
     "output_type": "stream",
     "text": [
      "The weighted sum of the inputs at the second node in the hidden layer is 1.8615\n"
     ]
    }
   ],
   "source": [
    "print('The weighted sum of the inputs at the second node in the hidden layer is {}'.format(np.around(z_12, decimals=4)))"
   ]
  },
  {
   "cell_type": "markdown",
   "id": "95a14bb5",
   "metadata": {
    "papermill": {
     "duration": 0.019796,
     "end_time": "2024-02-22T08:30:12.228484",
     "exception": false,
     "start_time": "2024-02-22T08:30:12.208688",
     "status": "completed"
    },
    "tags": []
   },
   "source": [
    "Next, assuming a sigmoid activation function, let's compute the activation of the first node, $a_{1, 1}$, in the hidden layer.\n"
   ]
  },
  {
   "cell_type": "code",
   "execution_count": 8,
   "id": "2ad66339",
   "metadata": {
    "execution": {
     "iopub.execute_input": "2024-02-22T08:30:12.271244Z",
     "iopub.status.busy": "2024-02-22T08:30:12.270754Z",
     "iopub.status.idle": "2024-02-22T08:30:12.277800Z",
     "shell.execute_reply": "2024-02-22T08:30:12.276283Z"
    },
    "papermill": {
     "duration": 0.03213,
     "end_time": "2024-02-22T08:30:12.281001",
     "exception": false,
     "start_time": "2024-02-22T08:30:12.248871",
     "status": "completed"
    },
    "tags": []
   },
   "outputs": [
    {
     "name": "stdout",
     "output_type": "stream",
     "text": [
      "The activation of the first node in the hidden layer is 0.6674\n"
     ]
    }
   ],
   "source": [
    "a_11 = 1.0 / (1.0 + np.exp(-z_11))\n",
    "\n",
    "print('The activation of the first node in the hidden layer is {}'.format(np.around(a_11, decimals=4)))"
   ]
  },
  {
   "cell_type": "markdown",
   "id": "9ecadb4d",
   "metadata": {
    "papermill": {
     "duration": 0.019831,
     "end_time": "2024-02-22T08:30:12.321353",
     "exception": false,
     "start_time": "2024-02-22T08:30:12.301522",
     "status": "completed"
    },
    "tags": []
   },
   "source": [
    "Let's also compute the activation of the second node, $a_{1, 2}$, in the hidden layer. Assign the value to **a_12**.\n"
   ]
  },
  {
   "cell_type": "code",
   "execution_count": 9,
   "id": "f2b8e99b",
   "metadata": {
    "execution": {
     "iopub.execute_input": "2024-02-22T08:30:12.364041Z",
     "iopub.status.busy": "2024-02-22T08:30:12.363555Z",
     "iopub.status.idle": "2024-02-22T08:30:12.369512Z",
     "shell.execute_reply": "2024-02-22T08:30:12.368104Z"
    },
    "papermill": {
     "duration": 0.030411,
     "end_time": "2024-02-22T08:30:12.372107",
     "exception": false,
     "start_time": "2024-02-22T08:30:12.341696",
     "status": "completed"
    },
    "tags": []
   },
   "outputs": [],
   "source": [
    "a_12 = 1.0 / (1.0 + np.exp(-z_12))"
   ]
  },
  {
   "cell_type": "markdown",
   "id": "babb4f19",
   "metadata": {
    "papermill": {
     "duration": 0.020139,
     "end_time": "2024-02-22T08:30:12.413542",
     "exception": false,
     "start_time": "2024-02-22T08:30:12.393403",
     "status": "completed"
    },
    "tags": []
   },
   "source": [
    "Print the activation of the second node.\n"
   ]
  },
  {
   "cell_type": "code",
   "execution_count": 10,
   "id": "b68116a1",
   "metadata": {
    "execution": {
     "iopub.execute_input": "2024-02-22T08:30:12.457265Z",
     "iopub.status.busy": "2024-02-22T08:30:12.456848Z",
     "iopub.status.idle": "2024-02-22T08:30:12.462948Z",
     "shell.execute_reply": "2024-02-22T08:30:12.461726Z"
    },
    "papermill": {
     "duration": 0.031608,
     "end_time": "2024-02-22T08:30:12.466084",
     "exception": false,
     "start_time": "2024-02-22T08:30:12.434476",
     "status": "completed"
    },
    "tags": []
   },
   "outputs": [
    {
     "name": "stdout",
     "output_type": "stream",
     "text": [
      "The activation of the second node in the hidden layer is 0.8655\n"
     ]
    }
   ],
   "source": [
    "print('The activation of the second node in the hidden layer is {}'.format(np.around(a_12, decimals=4)))"
   ]
  },
  {
   "cell_type": "markdown",
   "id": "21664b11",
   "metadata": {
    "papermill": {
     "duration": 0.020124,
     "end_time": "2024-02-22T08:30:12.506550",
     "exception": false,
     "start_time": "2024-02-22T08:30:12.486426",
     "status": "completed"
    },
    "tags": []
   },
   "source": [
    "Now these activations will serve as the inputs to the output layer. So, let's compute the weighted sum of these inputs to the node in the output layer. Assign the value to **z_2**.\n"
   ]
  },
  {
   "cell_type": "code",
   "execution_count": 11,
   "id": "39f6b677",
   "metadata": {
    "execution": {
     "iopub.execute_input": "2024-02-22T08:30:12.551081Z",
     "iopub.status.busy": "2024-02-22T08:30:12.550598Z",
     "iopub.status.idle": "2024-02-22T08:30:12.556733Z",
     "shell.execute_reply": "2024-02-22T08:30:12.555573Z"
    },
    "papermill": {
     "duration": 0.031973,
     "end_time": "2024-02-22T08:30:12.559527",
     "exception": false,
     "start_time": "2024-02-22T08:30:12.527554",
     "status": "completed"
    },
    "tags": []
   },
   "outputs": [],
   "source": [
    "z_2 = a_11 * weights[4] + a_12 * weights[5] + biases[2]"
   ]
  },
  {
   "cell_type": "markdown",
   "id": "bebe67ba",
   "metadata": {
    "papermill": {
     "duration": 0.01979,
     "end_time": "2024-02-22T08:30:12.599320",
     "exception": false,
     "start_time": "2024-02-22T08:30:12.579530",
     "status": "completed"
    },
    "tags": []
   },
   "source": [
    "Print the weighted sum of the inputs at the node in the output layer.\n"
   ]
  },
  {
   "cell_type": "code",
   "execution_count": 12,
   "id": "b9bf6b15",
   "metadata": {
    "execution": {
     "iopub.execute_input": "2024-02-22T08:30:12.641827Z",
     "iopub.status.busy": "2024-02-22T08:30:12.641436Z",
     "iopub.status.idle": "2024-02-22T08:30:12.648492Z",
     "shell.execute_reply": "2024-02-22T08:30:12.647067Z"
    },
    "papermill": {
     "duration": 0.03138,
     "end_time": "2024-02-22T08:30:12.651156",
     "exception": false,
     "start_time": "2024-02-22T08:30:12.619776",
     "status": "completed"
    },
    "tags": []
   },
   "outputs": [
    {
     "name": "stdout",
     "output_type": "stream",
     "text": [
      "The weighted sum of the inputs at the node in the output layer is 0.8793\n"
     ]
    }
   ],
   "source": [
    "print('The weighted sum of the inputs at the node in the output layer is {}'.format(np.around(z_2, decimals=4)))"
   ]
  },
  {
   "cell_type": "markdown",
   "id": "76790a08",
   "metadata": {
    "papermill": {
     "duration": 0.019622,
     "end_time": "2024-02-22T08:30:12.690810",
     "exception": false,
     "start_time": "2024-02-22T08:30:12.671188",
     "status": "completed"
    },
    "tags": []
   },
   "source": [
    "Finally, let's compute the output of the network as the activation of the node in the output layer. Assign the value to **a_2**.\n"
   ]
  },
  {
   "cell_type": "code",
   "execution_count": 13,
   "id": "98b696f3",
   "metadata": {
    "execution": {
     "iopub.execute_input": "2024-02-22T08:30:12.733299Z",
     "iopub.status.busy": "2024-02-22T08:30:12.732817Z",
     "iopub.status.idle": "2024-02-22T08:30:12.738665Z",
     "shell.execute_reply": "2024-02-22T08:30:12.737314Z"
    },
    "papermill": {
     "duration": 0.03039,
     "end_time": "2024-02-22T08:30:12.741070",
     "exception": false,
     "start_time": "2024-02-22T08:30:12.710680",
     "status": "completed"
    },
    "tags": []
   },
   "outputs": [],
   "source": [
    "a_2 = 1.0 / (1.0 + np.exp(-z_2))"
   ]
  },
  {
   "cell_type": "markdown",
   "id": "12bfa18b",
   "metadata": {
    "papermill": {
     "duration": 0.020454,
     "end_time": "2024-02-22T08:30:12.781895",
     "exception": false,
     "start_time": "2024-02-22T08:30:12.761441",
     "status": "completed"
    },
    "tags": []
   },
   "source": [
    "Print the activation of the node in the output layer which is equivalent to the prediction made by the network.\n"
   ]
  },
  {
   "cell_type": "code",
   "execution_count": 14,
   "id": "548c15be",
   "metadata": {
    "execution": {
     "iopub.execute_input": "2024-02-22T08:30:12.824505Z",
     "iopub.status.busy": "2024-02-22T08:30:12.824083Z",
     "iopub.status.idle": "2024-02-22T08:30:12.830490Z",
     "shell.execute_reply": "2024-02-22T08:30:12.829178Z"
    },
    "papermill": {
     "duration": 0.030986,
     "end_time": "2024-02-22T08:30:12.832861",
     "exception": false,
     "start_time": "2024-02-22T08:30:12.801875",
     "status": "completed"
    },
    "tags": []
   },
   "outputs": [
    {
     "name": "stdout",
     "output_type": "stream",
     "text": [
      "The output of the network for x1 = 0.5 and x2 = 0.85 is 0.7067\n"
     ]
    }
   ],
   "source": [
    "print('The output of the network for x1 = 0.5 and x2 = 0.85 is {}'.format(np.around(a_2, decimals=4)))"
   ]
  },
  {
   "cell_type": "markdown",
   "id": "35346031",
   "metadata": {
    "papermill": {
     "duration": 0.019676,
     "end_time": "2024-02-22T08:30:12.872824",
     "exception": false,
     "start_time": "2024-02-22T08:30:12.853148",
     "status": "completed"
    },
    "tags": []
   },
   "source": [
    "<hr>\n"
   ]
  },
  {
   "cell_type": "markdown",
   "id": "65a9e0b5",
   "metadata": {
    "papermill": {
     "duration": 0.020001,
     "end_time": "2024-02-22T08:30:12.912786",
     "exception": false,
     "start_time": "2024-02-22T08:30:12.892785",
     "status": "completed"
    },
    "tags": []
   },
   "source": [
    "Obviously, neural networks for real problems are composed of many hidden layers and many more nodes in each layer. So, we can't continue making predictions using this very inefficient approach of computing the weighted sum at each node and the activation of each node manually. \n"
   ]
  },
  {
   "cell_type": "markdown",
   "id": "5abf8e0e",
   "metadata": {
    "papermill": {
     "duration": 0.020307,
     "end_time": "2024-02-22T08:30:12.953156",
     "exception": false,
     "start_time": "2024-02-22T08:30:12.932849",
     "status": "completed"
    },
    "tags": []
   },
   "source": [
    "In order to code an automatic way of making predictions, let's generalize our network. A general network would take $n$ inputs, would have many hidden layers, each hidden layer having $m$ nodes, and would have an output layer. Although the network is showing one hidden layer, but we will code the network to have many hidden layers. Similarly, although the network shows an output layer with one node, we will code the network to have more than one node in the output layer.\n"
   ]
  },
  {
   "cell_type": "markdown",
   "id": "4ff5d052",
   "metadata": {
    "papermill": {
     "duration": 0.019592,
     "end_time": "2024-02-22T08:30:12.993623",
     "exception": false,
     "start_time": "2024-02-22T08:30:12.974031",
     "status": "completed"
    },
    "tags": []
   },
   "source": [
    "<img src=\"http://cocl.us/general_neural_network\" alt=\"Neural Network General\" width=\"600px\">\n"
   ]
  },
  {
   "cell_type": "markdown",
   "id": "a1769a68",
   "metadata": {
    "papermill": {
     "duration": 0.020378,
     "end_time": "2024-02-22T08:30:13.036228",
     "exception": false,
     "start_time": "2024-02-22T08:30:13.015850",
     "status": "completed"
    },
    "tags": []
   },
   "source": [
    "  \n"
   ]
  },
  {
   "cell_type": "markdown",
   "id": "95774b23",
   "metadata": {
    "papermill": {
     "duration": 0.020474,
     "end_time": "2024-02-22T08:30:13.078624",
     "exception": false,
     "start_time": "2024-02-22T08:30:13.058150",
     "status": "completed"
    },
    "tags": []
   },
   "source": [
    "<a id=\"item2\"></a>\n"
   ]
  },
  {
   "cell_type": "markdown",
   "id": "ee16218a",
   "metadata": {
    "papermill": {
     "duration": 0.020408,
     "end_time": "2024-02-22T08:30:13.120749",
     "exception": false,
     "start_time": "2024-02-22T08:30:13.100341",
     "status": "completed"
    },
    "tags": []
   },
   "source": [
    "<a id='item12'></a>\n"
   ]
  },
  {
   "cell_type": "markdown",
   "id": "32b93c71",
   "metadata": {
    "papermill": {
     "duration": 0.020254,
     "end_time": "2024-02-22T08:30:13.161807",
     "exception": false,
     "start_time": "2024-02-22T08:30:13.141553",
     "status": "completed"
    },
    "tags": []
   },
   "source": [
    "## Initialize a Network\n"
   ]
  },
  {
   "cell_type": "markdown",
   "id": "9bc06fc6",
   "metadata": {
    "papermill": {
     "duration": 0.020133,
     "end_time": "2024-02-22T08:30:13.202464",
     "exception": false,
     "start_time": "2024-02-22T08:30:13.182331",
     "status": "completed"
    },
    "tags": []
   },
   "source": [
    "Let's start by formally defining the structure of the network.\n"
   ]
  },
  {
   "cell_type": "code",
   "execution_count": 15,
   "id": "12915626",
   "metadata": {
    "execution": {
     "iopub.execute_input": "2024-02-22T08:30:13.247147Z",
     "iopub.status.busy": "2024-02-22T08:30:13.246744Z",
     "iopub.status.idle": "2024-02-22T08:30:13.252158Z",
     "shell.execute_reply": "2024-02-22T08:30:13.251340Z"
    },
    "papermill": {
     "duration": 0.03065,
     "end_time": "2024-02-22T08:30:13.254239",
     "exception": false,
     "start_time": "2024-02-22T08:30:13.223589",
     "status": "completed"
    },
    "tags": []
   },
   "outputs": [],
   "source": [
    "n = 2 # number of inputs\n",
    "num_hidden_layers = 2 # number of hidden layers\n",
    "m = [2, 2] # number of nodes in each hidden layer\n",
    "num_nodes_output = 1 # number of nodes in the output layer"
   ]
  },
  {
   "cell_type": "markdown",
   "id": "514962e4",
   "metadata": {
    "papermill": {
     "duration": 0.020518,
     "end_time": "2024-02-22T08:30:13.296587",
     "exception": false,
     "start_time": "2024-02-22T08:30:13.276069",
     "status": "completed"
    },
    "tags": []
   },
   "source": [
    "Now that we defined the structure of the network, let's go ahead and inititailize the weights and the biases in the network to random numbers. In order to be able to initialize the weights and the biases to random numbers, we will need to import the **Numpy** library.\n"
   ]
  },
  {
   "cell_type": "code",
   "execution_count": 16,
   "id": "7f0e41ff",
   "metadata": {
    "execution": {
     "iopub.execute_input": "2024-02-22T08:30:13.340498Z",
     "iopub.status.busy": "2024-02-22T08:30:13.340061Z",
     "iopub.status.idle": "2024-02-22T08:30:13.352962Z",
     "shell.execute_reply": "2024-02-22T08:30:13.351443Z"
    },
    "papermill": {
     "duration": 0.038335,
     "end_time": "2024-02-22T08:30:13.355609",
     "exception": false,
     "start_time": "2024-02-22T08:30:13.317274",
     "status": "completed"
    },
    "tags": []
   },
   "outputs": [
    {
     "name": "stdout",
     "output_type": "stream",
     "text": [
      "{'layer_1': {'node_1': {'weights': array([0.73, 0.75]), 'bias': array([0.94])}, 'node_2': {'weights': array([0.41, 0.02]), 'bias': array([0.49])}}, 'layer_2': {'node_1': {'weights': array([0.68, 0.36]), 'bias': array([0.98])}, 'node_2': {'weights': array([0.48, 0.17]), 'bias': array([0.06])}}, 'output': {'node_1': {'weights': array([0.83, 0.7 ]), 'bias': array([0.22])}}}\n"
     ]
    }
   ],
   "source": [
    "import numpy as np # import the Numpy library\n",
    "\n",
    "num_nodes_previous = n # number of nodes in the previous layer\n",
    "\n",
    "network = {} # initialize network an an empty dictionary\n",
    "\n",
    "# loop through each layer and randomly initialize the weights and biases associated with each node\n",
    "# notice how we are adding 1 to the number of hidden layers in order to include the output layer\n",
    "for layer in range(num_hidden_layers + 1): \n",
    "    \n",
    "    # determine name of layer\n",
    "    if layer == num_hidden_layers:\n",
    "        layer_name = 'output'\n",
    "        num_nodes = num_nodes_output\n",
    "    else:\n",
    "        layer_name = 'layer_{}'.format(layer + 1)\n",
    "        num_nodes = m[layer]\n",
    "    \n",
    "    # initialize weights and biases associated with each node in the current layer\n",
    "    network[layer_name] = {}\n",
    "    for node in range(num_nodes):\n",
    "        node_name = 'node_{}'.format(node+1)\n",
    "        network[layer_name][node_name] = {\n",
    "            'weights': np.around(np.random.uniform(size=num_nodes_previous), decimals=2),\n",
    "            'bias': np.around(np.random.uniform(size=1), decimals=2),\n",
    "        }\n",
    "    \n",
    "    num_nodes_previous = num_nodes\n",
    "    \n",
    "print(network) # print network"
   ]
  },
  {
   "cell_type": "markdown",
   "id": "3e2ee1c0",
   "metadata": {
    "papermill": {
     "duration": 0.02154,
     "end_time": "2024-02-22T08:30:13.398220",
     "exception": false,
     "start_time": "2024-02-22T08:30:13.376680",
     "status": "completed"
    },
    "tags": []
   },
   "source": [
    "Awesome! So now with the above code, we are able to initialize the weights and the biases pertaining to any network of any number of hidden layers and number of nodes in each layer. But let's put this code in a function so that we are able to repetitively execute all this code whenever we want to construct a neural network.\n"
   ]
  },
  {
   "cell_type": "code",
   "execution_count": 17,
   "id": "10959e27",
   "metadata": {
    "execution": {
     "iopub.execute_input": "2024-02-22T08:30:13.441752Z",
     "iopub.status.busy": "2024-02-22T08:30:13.441357Z",
     "iopub.status.idle": "2024-02-22T08:30:13.450745Z",
     "shell.execute_reply": "2024-02-22T08:30:13.449574Z"
    },
    "papermill": {
     "duration": 0.033831,
     "end_time": "2024-02-22T08:30:13.452989",
     "exception": false,
     "start_time": "2024-02-22T08:30:13.419158",
     "status": "completed"
    },
    "tags": []
   },
   "outputs": [],
   "source": [
    "def initialize_network(num_inputs, num_hidden_layers, num_nodes_hidden, num_nodes_output):\n",
    "    \n",
    "    num_nodes_previous = num_inputs # number of nodes in the previous layer\n",
    "\n",
    "    network = {}\n",
    "    \n",
    "    # loop through each layer and randomly initialize the weights and biases associated with each layer\n",
    "    for layer in range(num_hidden_layers + 1):\n",
    "        \n",
    "        if layer == num_hidden_layers:\n",
    "            layer_name = 'output' # name last layer in the network output\n",
    "            num_nodes = num_nodes_output\n",
    "        else:\n",
    "            layer_name = 'layer_{}'.format(layer + 1) # otherwise give the layer a number\n",
    "            num_nodes = num_nodes_hidden[layer] \n",
    "        \n",
    "        # initialize weights and bias for each node\n",
    "        network[layer_name] = {}\n",
    "        for node in range(num_nodes):\n",
    "            node_name = 'node_{}'.format(node+1)\n",
    "            network[layer_name][node_name] = {\n",
    "                'weights': np.around(np.random.uniform(size=num_nodes_previous), decimals=2),\n",
    "                'bias': np.around(np.random.uniform(size=1), decimals=2),\n",
    "            }\n",
    "    \n",
    "        num_nodes_previous = num_nodes\n",
    "\n",
    "    return network # return the network"
   ]
  },
  {
   "cell_type": "markdown",
   "id": "d383db67",
   "metadata": {
    "papermill": {
     "duration": 0.020547,
     "end_time": "2024-02-22T08:30:13.494356",
     "exception": false,
     "start_time": "2024-02-22T08:30:13.473809",
     "status": "completed"
    },
    "tags": []
   },
   "source": [
    "#### Use the *initialize_network* function to create a network that:\n",
    "\n",
    "1. takes 5 inputs\n",
    "2. has three hidden layers\n",
    "3. has 3 nodes in the first layer, 2 nodes in the second layer, and 3 nodes in the third layer\n",
    "4. has 1 node in the output layer\n",
    "\n",
    "Call the network **small_network**.\n"
   ]
  },
  {
   "cell_type": "code",
   "execution_count": 18,
   "id": "f93d0465",
   "metadata": {
    "execution": {
     "iopub.execute_input": "2024-02-22T08:30:13.538066Z",
     "iopub.status.busy": "2024-02-22T08:30:13.537662Z",
     "iopub.status.idle": "2024-02-22T08:30:13.543562Z",
     "shell.execute_reply": "2024-02-22T08:30:13.542362Z"
    },
    "papermill": {
     "duration": 0.030907,
     "end_time": "2024-02-22T08:30:13.546107",
     "exception": false,
     "start_time": "2024-02-22T08:30:13.515200",
     "status": "completed"
    },
    "tags": []
   },
   "outputs": [],
   "source": [
    "small_network = initialize_network(5, 3, [3, 2, 3], 1)"
   ]
  },
  {
   "cell_type": "markdown",
   "id": "e97500d1",
   "metadata": {
    "papermill": {
     "duration": 0.020466,
     "end_time": "2024-02-22T08:30:13.587634",
     "exception": false,
     "start_time": "2024-02-22T08:30:13.567168",
     "status": "completed"
    },
    "tags": []
   },
   "source": [
    "## Compute Weighted Sum at Each Node\n"
   ]
  },
  {
   "cell_type": "markdown",
   "id": "0ae2d27d",
   "metadata": {
    "papermill": {
     "duration": 0.02032,
     "end_time": "2024-02-22T08:30:13.628859",
     "exception": false,
     "start_time": "2024-02-22T08:30:13.608539",
     "status": "completed"
    },
    "tags": []
   },
   "source": [
    "The weighted sum at each node is computed as the dot product of the inputs and the weights plus the bias. So let's create a function called *compute_weighted_sum* that does just that.\n"
   ]
  },
  {
   "cell_type": "code",
   "execution_count": 19,
   "id": "02893f61",
   "metadata": {
    "execution": {
     "iopub.execute_input": "2024-02-22T08:30:13.672147Z",
     "iopub.status.busy": "2024-02-22T08:30:13.671730Z",
     "iopub.status.idle": "2024-02-22T08:30:13.677185Z",
     "shell.execute_reply": "2024-02-22T08:30:13.675897Z"
    },
    "papermill": {
     "duration": 0.0303,
     "end_time": "2024-02-22T08:30:13.679863",
     "exception": false,
     "start_time": "2024-02-22T08:30:13.649563",
     "status": "completed"
    },
    "tags": []
   },
   "outputs": [],
   "source": [
    "def compute_weighted_sum(inputs, weights, bias):\n",
    "    return np.sum(inputs * weights) + bias"
   ]
  },
  {
   "cell_type": "markdown",
   "id": "c756001a",
   "metadata": {
    "papermill": {
     "duration": 0.020609,
     "end_time": "2024-02-22T08:30:13.721397",
     "exception": false,
     "start_time": "2024-02-22T08:30:13.700788",
     "status": "completed"
    },
    "tags": []
   },
   "source": [
    "Let's generate 5 inputs that we can feed to **small_network**.\n"
   ]
  },
  {
   "cell_type": "code",
   "execution_count": 20,
   "id": "a71756d9",
   "metadata": {
    "execution": {
     "iopub.execute_input": "2024-02-22T08:30:13.764915Z",
     "iopub.status.busy": "2024-02-22T08:30:13.764519Z",
     "iopub.status.idle": "2024-02-22T08:30:13.770822Z",
     "shell.execute_reply": "2024-02-22T08:30:13.770049Z"
    },
    "papermill": {
     "duration": 0.031375,
     "end_time": "2024-02-22T08:30:13.773838",
     "exception": false,
     "start_time": "2024-02-22T08:30:13.742463",
     "status": "completed"
    },
    "tags": []
   },
   "outputs": [
    {
     "name": "stdout",
     "output_type": "stream",
     "text": [
      "The inputs to the network are [0.15 0.74 0.26 0.53 0.01]\n"
     ]
    }
   ],
   "source": [
    "from random import seed\n",
    "import numpy as np\n",
    "\n",
    "np.random.seed(12)\n",
    "inputs = np.around(np.random.uniform(size=5), decimals=2)\n",
    "\n",
    "print('The inputs to the network are {}'.format(inputs))"
   ]
  },
  {
   "cell_type": "markdown",
   "id": "85f0fb15",
   "metadata": {
    "papermill": {
     "duration": 0.020947,
     "end_time": "2024-02-22T08:30:13.815795",
     "exception": false,
     "start_time": "2024-02-22T08:30:13.794848",
     "status": "completed"
    },
    "tags": []
   },
   "source": [
    "#### Use the *compute_weighted_sum* function to compute the weighted sum at the first node in the first hidden layer.\n"
   ]
  },
  {
   "cell_type": "code",
   "execution_count": 21,
   "id": "20a4b44a",
   "metadata": {
    "execution": {
     "iopub.execute_input": "2024-02-22T08:30:13.859744Z",
     "iopub.status.busy": "2024-02-22T08:30:13.859359Z",
     "iopub.status.idle": "2024-02-22T08:30:13.865967Z",
     "shell.execute_reply": "2024-02-22T08:30:13.864949Z"
    },
    "papermill": {
     "duration": 0.031498,
     "end_time": "2024-02-22T08:30:13.868458",
     "exception": false,
     "start_time": "2024-02-22T08:30:13.836960",
     "status": "completed"
    },
    "tags": []
   },
   "outputs": [
    {
     "name": "stdout",
     "output_type": "stream",
     "text": [
      "The weighted sum at the first node in the hidden layer is 1.8406\n"
     ]
    }
   ],
   "source": [
    "node_weights = small_network['layer_1']['node_1']['weights']\n",
    "node_bias = small_network['layer_1']['node_1']['bias']\n",
    "\n",
    "weighted_sum = compute_weighted_sum(inputs, node_weights, node_bias)\n",
    "print('The weighted sum at the first node in the hidden layer is {}'.format(np.around(weighted_sum[0], decimals=4)))"
   ]
  },
  {
   "cell_type": "markdown",
   "id": "a1fa2d07",
   "metadata": {
    "papermill": {
     "duration": 0.020719,
     "end_time": "2024-02-22T08:30:13.910595",
     "exception": false,
     "start_time": "2024-02-22T08:30:13.889876",
     "status": "completed"
    },
    "tags": []
   },
   "source": [
    "## Compute Node Activation\n"
   ]
  },
  {
   "cell_type": "markdown",
   "id": "6c95811e",
   "metadata": {
    "papermill": {
     "duration": 0.02051,
     "end_time": "2024-02-22T08:30:13.952039",
     "exception": false,
     "start_time": "2024-02-22T08:30:13.931529",
     "status": "completed"
    },
    "tags": []
   },
   "source": [
    "Recall that the output of each node is simply a non-linear tranformation of the weighted sum. We use activation functions for this mapping. Let's use the sigmoid function as the activation function here. So let's define a function that takes a weighted sum as input and returns the non-linear transformation of the input using the sigmoid function.\n"
   ]
  },
  {
   "cell_type": "code",
   "execution_count": 22,
   "id": "a591f31d",
   "metadata": {
    "execution": {
     "iopub.execute_input": "2024-02-22T08:30:13.997580Z",
     "iopub.status.busy": "2024-02-22T08:30:13.997182Z",
     "iopub.status.idle": "2024-02-22T08:30:14.003528Z",
     "shell.execute_reply": "2024-02-22T08:30:14.001321Z"
    },
    "papermill": {
     "duration": 0.031704,
     "end_time": "2024-02-22T08:30:14.006360",
     "exception": false,
     "start_time": "2024-02-22T08:30:13.974656",
     "status": "completed"
    },
    "tags": []
   },
   "outputs": [],
   "source": [
    "def node_activation(weighted_sum):\n",
    "    return 1.0 / (1.0 + np.exp(-1 * weighted_sum))"
   ]
  },
  {
   "cell_type": "markdown",
   "id": "124b2ca3",
   "metadata": {
    "papermill": {
     "duration": 0.020792,
     "end_time": "2024-02-22T08:30:14.048798",
     "exception": false,
     "start_time": "2024-02-22T08:30:14.028006",
     "status": "completed"
    },
    "tags": []
   },
   "source": [
    "#### Use the *node_activation* function to compute the output of the first node in the first hidden layer.\n"
   ]
  },
  {
   "cell_type": "code",
   "execution_count": 23,
   "id": "00dba3d1",
   "metadata": {
    "execution": {
     "iopub.execute_input": "2024-02-22T08:30:14.095606Z",
     "iopub.status.busy": "2024-02-22T08:30:14.095228Z",
     "iopub.status.idle": "2024-02-22T08:30:14.101943Z",
     "shell.execute_reply": "2024-02-22T08:30:14.100522Z"
    },
    "papermill": {
     "duration": 0.033723,
     "end_time": "2024-02-22T08:30:14.104956",
     "exception": false,
     "start_time": "2024-02-22T08:30:14.071233",
     "status": "completed"
    },
    "tags": []
   },
   "outputs": [
    {
     "name": "stdout",
     "output_type": "stream",
     "text": [
      "The output of the first node in the hidden layer is 0.863\n"
     ]
    }
   ],
   "source": [
    "node_output  = node_activation(compute_weighted_sum(inputs, node_weights, node_bias))\n",
    "print('The output of the first node in the hidden layer is {}'.format(np.around(node_output[0], decimals=4)))"
   ]
  },
  {
   "cell_type": "markdown",
   "id": "07e7ef51",
   "metadata": {
    "papermill": {
     "duration": 0.020847,
     "end_time": "2024-02-22T08:30:14.147004",
     "exception": false,
     "start_time": "2024-02-22T08:30:14.126157",
     "status": "completed"
    },
    "tags": []
   },
   "source": [
    "## Forward Propagation\n"
   ]
  },
  {
   "cell_type": "markdown",
   "id": "efd7d0c5",
   "metadata": {
    "papermill": {
     "duration": 0.020815,
     "end_time": "2024-02-22T08:30:14.189044",
     "exception": false,
     "start_time": "2024-02-22T08:30:14.168229",
     "status": "completed"
    },
    "tags": []
   },
   "source": [
    "The final piece of building a neural network that can perform predictions is to put everything together. So let's create a function that applies the *compute_weighted_sum* and *node_activation* functions to each node in the network and propagates the data all the way to the output layer and outputs a prediction for each node in the output layer.\n"
   ]
  },
  {
   "cell_type": "markdown",
   "id": "4eb7770d",
   "metadata": {
    "papermill": {
     "duration": 0.020924,
     "end_time": "2024-02-22T08:30:14.231146",
     "exception": false,
     "start_time": "2024-02-22T08:30:14.210222",
     "status": "completed"
    },
    "tags": []
   },
   "source": [
    "The way we are going to accomplish this is through the following procedure:\n",
    "\n",
    "1. Start with the input layer as the input to the first hidden layer.\n",
    "2. Compute the weighted sum at the nodes of the current layer.\n",
    "3. Compute the output of the nodes of the current layer.\n",
    "4. Set the output of the current layer to be the input to the next layer.\n",
    "5. Move to the next layer in the network.\n",
    "5. Repeat steps 2 - 4 until we compute the output of the output layer.\n"
   ]
  },
  {
   "cell_type": "code",
   "execution_count": 24,
   "id": "50dd952d",
   "metadata": {
    "execution": {
     "iopub.execute_input": "2024-02-22T08:30:14.275571Z",
     "iopub.status.busy": "2024-02-22T08:30:14.275139Z",
     "iopub.status.idle": "2024-02-22T08:30:14.284178Z",
     "shell.execute_reply": "2024-02-22T08:30:14.282683Z"
    },
    "papermill": {
     "duration": 0.034806,
     "end_time": "2024-02-22T08:30:14.287169",
     "exception": false,
     "start_time": "2024-02-22T08:30:14.252363",
     "status": "completed"
    },
    "tags": []
   },
   "outputs": [],
   "source": [
    "def forward_propagate(network, inputs):\n",
    "    \n",
    "    layer_inputs = list(inputs) # start with the input layer as the input to the first hidden layer\n",
    "    \n",
    "    for layer in network:\n",
    "        \n",
    "        layer_data = network[layer]\n",
    "        \n",
    "        layer_outputs = [] \n",
    "        for layer_node in layer_data:\n",
    "        \n",
    "            node_data = layer_data[layer_node]\n",
    "        \n",
    "            # compute the weighted sum and the output of each node at the same time \n",
    "            node_output = node_activation(compute_weighted_sum(layer_inputs, node_data['weights'], node_data['bias']))\n",
    "            layer_outputs.append(np.around(node_output[0], decimals=4))\n",
    "            \n",
    "        if layer != 'output':\n",
    "            print('The outputs of the nodes in hidden layer number {} is {}'.format(layer.split('_')[1], layer_outputs))\n",
    "    \n",
    "        layer_inputs = layer_outputs # set the output of this layer to be the input to next layer\n",
    "\n",
    "    network_predictions = layer_outputs\n",
    "    return network_predictions"
   ]
  },
  {
   "cell_type": "markdown",
   "id": "e8095abe",
   "metadata": {
    "papermill": {
     "duration": 0.020902,
     "end_time": "2024-02-22T08:30:14.329377",
     "exception": false,
     "start_time": "2024-02-22T08:30:14.308475",
     "status": "completed"
    },
    "tags": []
   },
   "source": [
    "#### Use the *forward_propagate* function to compute the prediction of our small network\n"
   ]
  },
  {
   "cell_type": "code",
   "execution_count": 25,
   "id": "f34db0da",
   "metadata": {
    "execution": {
     "iopub.execute_input": "2024-02-22T08:30:14.373297Z",
     "iopub.status.busy": "2024-02-22T08:30:14.371903Z",
     "iopub.status.idle": "2024-02-22T08:30:14.377362Z",
     "shell.execute_reply": "2024-02-22T08:30:14.376449Z"
    },
    "papermill": {
     "duration": 0.029653,
     "end_time": "2024-02-22T08:30:14.379619",
     "exception": false,
     "start_time": "2024-02-22T08:30:14.349966",
     "status": "completed"
    },
    "tags": []
   },
   "outputs": [],
   "source": [
    "### type your answser here\n",
    "\n",
    "\n"
   ]
  },
  {
   "cell_type": "markdown",
   "id": "715eec73",
   "metadata": {
    "papermill": {
     "duration": 0.02074,
     "end_time": "2024-02-22T08:30:14.420896",
     "exception": false,
     "start_time": "2024-02-22T08:30:14.400156",
     "status": "completed"
    },
    "tags": []
   },
   "source": [
    "Double-click __here__ for the solution.\n",
    "<!-- The correct answer is:\n",
    "predictions = forward_propagate(small_network, inputs)\n",
    "print('The predicted value by the network for the given input is {}'.format(np.around(predictions[0], decimals=4)))\n",
    "-->\n"
   ]
  },
  {
   "cell_type": "markdown",
   "id": "7a8de15b",
   "metadata": {
    "papermill": {
     "duration": 0.020018,
     "end_time": "2024-02-22T08:30:14.461226",
     "exception": false,
     "start_time": "2024-02-22T08:30:14.441208",
     "status": "completed"
    },
    "tags": []
   },
   "source": [
    "So we built the code to define a neural network. We can specify the number of inputs that a neural network can take, the number of hidden layers as well as the number of nodes in each hidden layer, and the number of nodes in the output layer.\n"
   ]
  },
  {
   "cell_type": "markdown",
   "id": "c0a4ccaa",
   "metadata": {
    "papermill": {
     "duration": 0.020144,
     "end_time": "2024-02-22T08:30:14.501600",
     "exception": false,
     "start_time": "2024-02-22T08:30:14.481456",
     "status": "completed"
    },
    "tags": []
   },
   "source": [
    "We first use the *initialize_network* to create our neural network and define its weights and biases.\n"
   ]
  },
  {
   "cell_type": "code",
   "execution_count": 26,
   "id": "4f9e4d2a",
   "metadata": {
    "execution": {
     "iopub.execute_input": "2024-02-22T08:30:14.544264Z",
     "iopub.status.busy": "2024-02-22T08:30:14.543784Z",
     "iopub.status.idle": "2024-02-22T08:30:14.549369Z",
     "shell.execute_reply": "2024-02-22T08:30:14.548520Z"
    },
    "papermill": {
     "duration": 0.029694,
     "end_time": "2024-02-22T08:30:14.551507",
     "exception": false,
     "start_time": "2024-02-22T08:30:14.521813",
     "status": "completed"
    },
    "tags": []
   },
   "outputs": [],
   "source": [
    "my_network = initialize_network(5, 3, [2, 3, 2], 3)"
   ]
  },
  {
   "cell_type": "markdown",
   "id": "e4de2b68",
   "metadata": {
    "papermill": {
     "duration": 0.020243,
     "end_time": "2024-02-22T08:30:14.592015",
     "exception": false,
     "start_time": "2024-02-22T08:30:14.571772",
     "status": "completed"
    },
    "tags": []
   },
   "source": [
    "Then, for a given input,\n"
   ]
  },
  {
   "cell_type": "code",
   "execution_count": 27,
   "id": "4b1b91ec",
   "metadata": {
    "execution": {
     "iopub.execute_input": "2024-02-22T08:30:14.635026Z",
     "iopub.status.busy": "2024-02-22T08:30:14.634212Z",
     "iopub.status.idle": "2024-02-22T08:30:14.639226Z",
     "shell.execute_reply": "2024-02-22T08:30:14.638306Z"
    },
    "papermill": {
     "duration": 0.029239,
     "end_time": "2024-02-22T08:30:14.641544",
     "exception": false,
     "start_time": "2024-02-22T08:30:14.612305",
     "status": "completed"
    },
    "tags": []
   },
   "outputs": [],
   "source": [
    "inputs = np.around(np.random.uniform(size=5), decimals=2)"
   ]
  },
  {
   "cell_type": "markdown",
   "id": "9dadd2a7",
   "metadata": {
    "papermill": {
     "duration": 0.020086,
     "end_time": "2024-02-22T08:30:14.681853",
     "exception": false,
     "start_time": "2024-02-22T08:30:14.661767",
     "status": "completed"
    },
    "tags": []
   },
   "source": [
    "we compute the network predictions.\n"
   ]
  },
  {
   "cell_type": "code",
   "execution_count": 28,
   "id": "2c792784",
   "metadata": {
    "execution": {
     "iopub.execute_input": "2024-02-22T08:30:14.724915Z",
     "iopub.status.busy": "2024-02-22T08:30:14.724107Z",
     "iopub.status.idle": "2024-02-22T08:30:14.730939Z",
     "shell.execute_reply": "2024-02-22T08:30:14.729536Z"
    },
    "papermill": {
     "duration": 0.031156,
     "end_time": "2024-02-22T08:30:14.733324",
     "exception": false,
     "start_time": "2024-02-22T08:30:14.702168",
     "status": "completed"
    },
    "tags": []
   },
   "outputs": [
    {
     "name": "stdout",
     "output_type": "stream",
     "text": [
      "The outputs of the nodes in hidden layer number 1 is [0.8857, 0.8889]\n",
      "The outputs of the nodes in hidden layer number 2 is [0.7822, 0.6965, 0.7411]\n",
      "The outputs of the nodes in hidden layer number 3 is [0.868, 0.881]\n",
      "The predicted values by the network for the given input are [0.8952, 0.8222, 0.8035]\n"
     ]
    }
   ],
   "source": [
    "predictions = forward_propagate(my_network, inputs)\n",
    "print('The predicted values by the network for the given input are {}'.format(predictions))"
   ]
  },
  {
   "cell_type": "markdown",
   "id": "0dadb9e3",
   "metadata": {
    "papermill": {
     "duration": 0.020229,
     "end_time": "2024-02-22T08:30:14.773826",
     "exception": false,
     "start_time": "2024-02-22T08:30:14.753597",
     "status": "completed"
    },
    "tags": []
   },
   "source": [
    "Feel free to play around with the code by creating different networks of different structures and enjoy making predictions using the *forward_propagate* function.\n"
   ]
  }
 ],
 "metadata": {
  "kaggle": {
   "accelerator": "none",
   "dataSources": [],
   "dockerImageVersionId": 30646,
   "isGpuEnabled": false,
   "isInternetEnabled": true,
   "language": "python",
   "sourceType": "notebook"
  },
  "kernelspec": {
   "display_name": "Python 3",
   "language": "python",
   "name": "python3"
  },
  "language_info": {
   "codemirror_mode": {
    "name": "ipython",
    "version": 3
   },
   "file_extension": ".py",
   "mimetype": "text/x-python",
   "name": "python",
   "nbconvert_exporter": "python",
   "pygments_lexer": "ipython3",
   "version": "3.10.13"
  },
  "papermill": {
   "default_parameters": {},
   "duration": 7.568444,
   "end_time": "2024-02-22T08:30:15.316316",
   "environment_variables": {},
   "exception": null,
   "input_path": "__notebook__.ipynb",
   "output_path": "__notebook__.ipynb",
   "parameters": {},
   "start_time": "2024-02-22T08:30:07.747872",
   "version": "2.5.0"
  }
 },
 "nbformat": 4,
 "nbformat_minor": 5
}
